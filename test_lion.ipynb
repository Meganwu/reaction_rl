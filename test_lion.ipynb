{
 "cells": [
  {
   "cell_type": "code",
   "execution_count": 2,
   "metadata": {},
   "outputs": [],
   "source": [
    "# toy model\n",
    "\n",
    "import torch\n",
    "from torch import nn\n",
    "\n",
    "model = nn.Linear(10, 1)\n",
    "\n",
    "# import Lion and instantiate with parameters\n",
    "\n",
    "from lion_pytorch import Lion\n",
    "\n",
    "opt = Lion(model.parameters(), lr=1e-4, weight_decay=1e-2)\n",
    "\n",
    "# forward and backwards\n",
    "\n",
    "loss = model(torch.randn(10))\n",
    "loss.backward()\n",
    "\n",
    "# optimizer step\n",
    "\n",
    "opt.step()\n",
    "opt.zero_grad()"
   ]
  },
  {
   "cell_type": "code",
   "execution_count": 3,
   "metadata": {},
   "outputs": [
    {
     "data": {
      "text/plain": [
       "tensor([1.0338], grad_fn=<AddBackward0>)"
      ]
     },
     "execution_count": 3,
     "metadata": {},
     "output_type": "execute_result"
    }
   ],
   "source": [
    "loss"
   ]
  },
  {
   "cell_type": "code",
   "execution_count": 11,
   "metadata": {},
   "outputs": [],
   "source": [
    "import sys"
   ]
  },
  {
   "cell_type": "code",
   "execution_count": null,
   "metadata": {},
   "outputs": [],
   "source": [
    "sys.pa"
   ]
  },
  {
   "cell_type": "code",
   "execution_count": 12,
   "metadata": {},
   "outputs": [],
   "source": [
    "sys.path.append('C:/Users/wun2/github/reaction_rl/REACTRL/image_modules/automl/efficientnetv2')"
   ]
  },
  {
   "cell_type": "code",
   "execution_count": 7,
   "metadata": {},
   "outputs": [],
   "source": [
    "from REACTRL.image_modules.automl.efficientnetv2 import *"
   ]
  },
  {
   "cell_type": "code",
   "execution_count": 17,
   "metadata": {},
   "outputs": [],
   "source": [
    "import effnetv2_model "
   ]
  },
  {
   "cell_type": "code",
   "execution_count": 18,
   "metadata": {},
   "outputs": [],
   "source": [
    "model = effnetv2_model.EffNetV2Model('efficientnetv2-s')"
   ]
  },
  {
   "cell_type": "code",
   "execution_count": 24,
   "metadata": {},
   "outputs": [
    {
     "name": "stdout",
     "output_type": "stream",
     "text": [
      "Model: \"model\"\n",
      "_________________________________________________________________\n",
      " Layer (type)                Output Shape              Param #   \n",
      "=================================================================\n",
      " input_1 (InputLayer)        [(None, 224, 224, 3)]     0         \n",
      "                                                                 \n",
      " stem (Stem)                 (None, 112, 112, 24)      744       \n",
      "                                                                 \n",
      " blocks_0 (FusedMBConvBlock)  (None, 112, 112, 24)     5280      \n",
      "                                                                 \n",
      " blocks_1 (FusedMBConvBlock)  (None, 112, 112, 24)     5280      \n",
      "                                                                 \n",
      " blocks_2 (FusedMBConvBlock)  (None, 56, 56, 48)       25920     \n",
      "                                                                 \n",
      " blocks_3 (FusedMBConvBlock)  (None, 56, 56, 48)       93120     \n",
      "                                                                 \n",
      " blocks_4 (FusedMBConvBlock)  (None, 56, 56, 48)       93120     \n",
      "                                                                 \n",
      " blocks_5 (FusedMBConvBlock)  (None, 56, 56, 48)       93120     \n",
      "                                                                 \n",
      " blocks_6 (FusedMBConvBlock)  (None, 28, 28, 64)       96256     \n",
      "                                                                 \n",
      " blocks_7 (FusedMBConvBlock)  (None, 28, 28, 64)       165120    \n",
      "                                                                 \n",
      " blocks_8 (FusedMBConvBlock)  (None, 28, 28, 64)       165120    \n",
      "                                                                 \n",
      " blocks_9 (FusedMBConvBlock)  (None, 28, 28, 64)       165120    \n",
      "                                                                 \n",
      " blocks_10 (MBConvBlock)     (None, 14, 14, 128)       62480     \n",
      "                                                                 \n",
      " blocks_11 (MBConvBlock)     (None, 14, 14, 128)       173600    \n",
      "                                                                 \n",
      " blocks_12 (MBConvBlock)     (None, 14, 14, 128)       173600    \n",
      "                                                                 \n",
      " blocks_13 (MBConvBlock)     (None, 14, 14, 128)       173600    \n",
      "                                                                 \n",
      " blocks_14 (MBConvBlock)     (None, 14, 14, 128)       173600    \n",
      "                                                                 \n",
      " blocks_15 (MBConvBlock)     (None, 14, 14, 128)       173600    \n",
      "                                                                 \n",
      " blocks_16 (MBConvBlock)     (None, 14, 14, 160)       284832    \n",
      "                                                                 \n",
      " blocks_17 (MBConvBlock)     (None, 14, 14, 160)       401960    \n",
      "                                                                 \n",
      " blocks_18 (MBConvBlock)     (None, 14, 14, 160)       401960    \n",
      "                                                                 \n",
      " blocks_19 (MBConvBlock)     (None, 14, 14, 160)       401960    \n",
      "                                                                 \n",
      " blocks_20 (MBConvBlock)     (None, 14, 14, 160)       401960    \n",
      "                                                                 \n",
      " blocks_21 (MBConvBlock)     (None, 14, 14, 160)       401960    \n",
      "                                                                 \n",
      " blocks_22 (MBConvBlock)     (None, 14, 14, 160)       401960    \n",
      "                                                                 \n",
      " blocks_23 (MBConvBlock)     (None, 14, 14, 160)       401960    \n",
      "                                                                 \n",
      " blocks_24 (MBConvBlock)     (None, 14, 14, 160)       401960    \n",
      "                                                                 \n",
      " blocks_25 (MBConvBlock)     (None, 7, 7, 256)         494504    \n",
      "                                                                 \n",
      " blocks_26 (MBConvBlock)     (None, 7, 7, 256)         1011776   \n",
      "                                                                 \n",
      " blocks_27 (MBConvBlock)     (None, 7, 7, 256)         1011776   \n",
      "                                                                 \n",
      " blocks_28 (MBConvBlock)     (None, 7, 7, 256)         1011776   \n",
      "                                                                 \n",
      " blocks_29 (MBConvBlock)     (None, 7, 7, 256)         1011776   \n",
      "                                                                 \n",
      " blocks_30 (MBConvBlock)     (None, 7, 7, 256)         1011776   \n",
      "                                                                 \n",
      " blocks_31 (MBConvBlock)     (None, 7, 7, 256)         1011776   \n",
      "                                                                 \n",
      " blocks_32 (MBConvBlock)     (None, 7, 7, 256)         1011776   \n",
      "                                                                 \n",
      " blocks_33 (MBConvBlock)     (None, 7, 7, 256)         1011776   \n",
      "                                                                 \n",
      " blocks_34 (MBConvBlock)     (None, 7, 7, 256)         1011776   \n",
      "                                                                 \n",
      " blocks_35 (MBConvBlock)     (None, 7, 7, 256)         1011776   \n",
      "                                                                 \n",
      " blocks_36 (MBConvBlock)     (None, 7, 7, 256)         1011776   \n",
      "                                                                 \n",
      " blocks_37 (MBConvBlock)     (None, 7, 7, 256)         1011776   \n",
      "                                                                 \n",
      " blocks_38 (MBConvBlock)     (None, 7, 7, 256)         1011776   \n",
      "                                                                 \n",
      " blocks_39 (MBConvBlock)     (None, 7, 7, 256)         1011776   \n",
      "                                                                 \n",
      " head (Head)                 (None, 1280)              332800    \n",
      "                                                                 \n",
      " dense (Dense)               (None, 1000)              1281000   \n",
      "                                                                 \n",
      "=================================================================\n",
      "Total params: 21,612,360\n",
      "Trainable params: 21,458,488\n",
      "Non-trainable params: 153,872\n",
      "_________________________________________________________________\n"
     ]
    }
   ],
   "source": [
    "model.summary()"
   ]
  },
  {
   "cell_type": "code",
   "execution_count": 28,
   "metadata": {},
   "outputs": [],
   "source": [
    "import preprocessing\n",
    "import cv2\n"
   ]
  },
  {
   "cell_type": "code",
   "execution_count": 43,
   "metadata": {},
   "outputs": [],
   "source": [
    "image = tf.io.read_file('sharpened_image.jpg')"
   ]
  },
  {
   "cell_type": "code",
   "execution_count": 39,
   "metadata": {},
   "outputs": [
    {
     "data": {
      "text/plain": [
       "<tf.Tensor: shape=(), dtype=string, numpy=b'\\xff\\xd8\\xff\\xe0\\x00\\x10JFIF\\x00\\x01\\x01\\x00\\x00\\x01\\x00\\x01\\x00\\x00\\xff\\xdb\\x00C\\x00\\x02\\x01\\x01\\x01\\x01\\x01\\x02\\x01\\x01\\x01\\x02\\x02\\x02\\x02\\x02\\x04\\x03\\x02\\x02\\x02\\x02\\x05\\x04\\x04\\x03\\x04\\x06\\x05\\x06\\x06\\x06\\x05\\x06\\x06\\x06\\x07\\t\\x08\\x06\\x07\\t\\x07\\x06\\x06\\x08\\x0b\\x08\\t\\n\\n\\n\\n\\n\\x06\\x08\\x0b\\x0c\\x0b\\n\\x0c\\t\\n\\n\\n\\xff\\xdb\\x00C\\x01\\x02\\x02\\x02\\x02\\x02\\x02\\x05\\x03\\x03\\x05\\n\\x07\\x06\\x07\\n\\n\\n\\n\\n\\n\\n\\n\\n\\n\\n\\n\\n\\n\\n\\n\\n\\n\\n\\n\\n\\n\\n\\n\\n\\n\\n\\n\\n\\n\\n\\n\\n\\n\\n\\n\\n\\n\\n\\n\\n\\n\\n\\n\\n\\n\\n\\n\\n\\n\\xff\\xc0\\x00\\x11\\x08\\x00y\\x00\\xb3\\x03\\x01\"\\x00\\x02\\x11\\x01\\x03\\x11\\x01\\xff\\xc4\\x00\\x1f\\x00\\x00\\x01\\x05\\x01\\x01\\x01\\x01\\x01\\x01\\x00\\x00\\x00\\x00\\x00\\x00\\x00\\x00\\x01\\x02\\x03\\x04\\x05\\x06\\x07\\x08\\t\\n\\x0b\\xff\\xc4\\x00\\xb5\\x10\\x00\\x02\\x01\\x03\\x03\\x02\\x04\\x03\\x05\\x05\\x04\\x04\\x00\\x00\\x01}\\x01\\x02\\x03\\x00\\x04\\x11\\x05\\x12!1A\\x06\\x13Qa\\x07\"q\\x142\\x81\\x91\\xa1\\x08#B\\xb1\\xc1\\x15R\\xd1\\xf0$3br\\x82\\t\\n\\x16\\x17\\x18\\x19\\x1a%&\\'()*456789:CDEFGHIJSTUVWXYZcdefghijstuvwxyz\\x83\\x84\\x85\\x86\\x87\\x88\\x89\\x8a\\x92\\x93\\x94\\x95\\x96\\x97\\x98\\x99\\x9a\\xa2\\xa3\\xa4\\xa5\\xa6\\xa7\\xa8\\xa9\\xaa\\xb2\\xb3\\xb4\\xb5\\xb6\\xb7\\xb8\\xb9\\xba\\xc2\\xc3\\xc4\\xc5\\xc6\\xc7\\xc8\\xc9\\xca\\xd2\\xd3\\xd4\\xd5\\xd6\\xd7\\xd8\\xd9\\xda\\xe1\\xe2\\xe3\\xe4\\xe5\\xe6\\xe7\\xe8\\xe9\\xea\\xf1\\xf2\\xf3\\xf4\\xf5\\xf6\\xf7\\xf8\\xf9\\xfa\\xff\\xc4\\x00\\x1f\\x01\\x00\\x03\\x01\\x01\\x01\\x01\\x01\\x01\\x01\\x01\\x01\\x00\\x00\\x00\\x00\\x00\\x00\\x01\\x02\\x03\\x04\\x05\\x06\\x07\\x08\\t\\n\\x0b\\xff\\xc4\\x00\\xb5\\x11\\x00\\x02\\x01\\x02\\x04\\x04\\x03\\x04\\x07\\x05\\x04\\x04\\x00\\x01\\x02w\\x00\\x01\\x02\\x03\\x11\\x04\\x05!1\\x06\\x12AQ\\x07aq\\x13\"2\\x81\\x08\\x14B\\x91\\xa1\\xb1\\xc1\\t#3R\\xf0\\x15br\\xd1\\n\\x16$4\\xe1%\\xf1\\x17\\x18\\x19\\x1a&\\'()*56789:CDEFGHIJSTUVWXYZcdefghijstuvwxyz\\x82\\x83\\x84\\x85\\x86\\x87\\x88\\x89\\x8a\\x92\\x93\\x94\\x95\\x96\\x97\\x98\\x99\\x9a\\xa2\\xa3\\xa4\\xa5\\xa6\\xa7\\xa8\\xa9\\xaa\\xb2\\xb3\\xb4\\xb5\\xb6\\xb7\\xb8\\xb9\\xba\\xc2\\xc3\\xc4\\xc5\\xc6\\xc7\\xc8\\xc9\\xca\\xd2\\xd3\\xd4\\xd5\\xd6\\xd7\\xd8\\xd9\\xda\\xe2\\xe3\\xe4\\xe5\\xe6\\xe7\\xe8\\xe9\\xea\\xf2\\xf3\\xf4\\xf5\\xf6\\xf7\\xf8\\xf9\\xfa\\xff\\xda\\x00\\x0c\\x03\\x01\\x00\\x02\\x11\\x03\\x11\\x00?\\x00\\xfd\\x00\\x96\\xd1m\\x10\\xed\\x8c\\xfc\\xe8x\\xe0\\x1e\\x95\\r\\xb5\\xa8\\x04\\x00\\t9\\xe3#\\x9c\\xff\\x00\\x9cU\\xe3\\x0b\\xde!r\\xef\\x803\\x8d\\xc7\\x8e:b\\x98\"\\x88r\\xa5G\\xd2\\xbf\\xc7\\xbfl\\x7fG\\xf3\\xb8\\x11J-\\xa0a\\x1c\\x80gny\\x02\\xa3\\x9aKV\\x85\\xd607\\x15\\xe3\\x81V\\x1e8\\x19\\xf341\\xc8@\\x01Y\\x86H\\x1e\\x94\\x9eM\\x9b|\\xa2\\xd2\\x11\\x93\\x8c\\xed\\xa3\\xdb\\xd8=\\xb33\\xfe\\x7fC\\xff\\x00|\\x7f\\xf5\\xea{.\\xb2d\\x1f\\xba=\\xbdj\\xcf\\xd9-\\xff\\x00\\xe7\\x84_\\xf7\\xc1\\xa5[x\\x93;#E\\xcf\\\\)\\xe6\\x9f\\xd6\\xfc\\xc7\\xedYR\\xd5\\x16Q\"H\\xb9\\x04\\xf4?QOg\\xb5\\xb4\\x19TS\\xc7`9\\x18\\xcdNc\\x8a\\xddL\\x8b\\x12\\x0ey\\x01:\\xe4\\xd3M\\x947\\xa7\"\\xdd\\x06{\\x15\\xc0\\xe2\\x97\\xd69\\xb5\\x0enmD\\x8aO\\xb4D\\xac\\xb1\\x90\\xac2\\xbcp{T\\xd6\\xf6\\x06\\xdeaq\\xb7\\xe6\\xc1\\\\\\x81\\xd8\\xd4+jm\\xe6kx\\xc9\\x01\\x0e\\x06\\t\\x18\\xef\\xfc\\xaa\\xd4v\\xf3\\\\G\\xe4\\x89\\x9c\\x00\\t\\xf9_\\xd3\\xb7\\xebS*\\xde\\xeb%\\xfc#\\xc0`G\\xca\\x7f*\\xad\\xceO\\x07\\xa9\\xedS\\x91\\xf6V \\xfc\\xc4\\x1eC\\x0e\\xbdi\\xb6\\xab\\x1c\\x92\\x92\\xca\\x08,H\\x04qX{der\\x16\\x8cK\\x85m\\xa3\\x1c\\xfc\\xcbHmP\\x8cf?\\xfb\\xe2\\xa7\\x8b\\x02g\\x0b\\xd9x\\xfd*T\\xdc\\xce\\x17q\\xe4\\xe2\\xb6\\x84\\xb9\\xa3sX|%yl\\x85\\xd2\\xeel\\x1c\\x01\\xc7=\\xbf\\xfdU\\x05\\xbc\\x01\\xf7D\\xa7&001\\xeai\\xd1\\xea\\xcd*\\xec\\x89\\x02c\\xb2\\xfd{\\xff\\x00\\x9e\\xf4L\\x8c\\x91J#r\\x1aB\\x0e\\xf0\\xd8bG\\xbf\\xe3ZE\\xf2\\xbb\\x9aG\\xe2Eimp\\xd9\\x01\\xb1\\x9e0\\xb5B~\\x1f9\\xe3h\\xc1\\xadw\\n\\xf6\\x8b\\x1e\\xdc\\xca\\x0f/\\xb7\\x93\\xcf\\xa9\\xefTn\\xa3\\x8e\\xd6o\\x9e\\x04`\\x07\\xcb\\x95\\x1f\\xd6\\xbb\\xa9U\\xb1\\xb1\\x06\\xa0q`\\xbf\\xef\\x0f\\xe7P\\xdc\\x1em\\xbf\\xeb\\xb2\\x7f\\xe8Ur\\xe6\\xe6\\xd6r\\x91%\\x94*\\x9e_!c\\x00}\\xe3\\xcf\\xd7\\x15\\x1b\\xd9#\\xc6n\\x7f\\x86%.\\xa3\\xd0\\x8a\\xe8\\xf6\\xc9\\xb0$n\\xa7\\xebIP\\x19\\x899\\xf9\\x7f\\xcf\\xe3G\\x9a\\x7f\\xd9\\xff\\x00?\\x8d/m\\x10\\'\\xa2\\xa0\\xf3O\\xfb?\\xe7\\xf1\\xa2\\x8fm\\x10:\\x13\\r\\xca\\xe0\\xc4\\xe8\\x14vbx\\x1e\\xd8\\xe2\\xa42\\xa6xO\\xd4\\x7f\\x85E\\xb9\\xc0,\\x11\\xb0\\xbc\\x83\\xb3\\xb0\\xa5:\\x9a\\x93\\x90\\xaf\\xff\\x00|\\x1a\\xf0*S\\x95;u\\xb9\\xc0\\xf9\\xe5\\xbb$\\x0fny\\x926\\xcfl\\x11\\xd3\\xf4\\xa3u\\xa9 ,l\\x0eF\\t\\xc7\\x1f\\xad5\\'\\xfb@2(8\\x07\\x07\\x8es\\xfeqC\\xb3*\\x16\\xf9\\xb8\\x1e\\x95\\x97\\xbc\\xd6\\xc4\\xf2\\xcb\\xb9&\\x17\\xd4~\\x94\\xd6\\x91\\x15\\x8a\\xe0q\\xfe\\xd0\\xff\\x00\\n\\x88H\\xc7\\xa0?\\xf7\\xcd=\\x0c\\x8c\\xb9\\xf9\\x87>\\x82\\xa3\\xd9O\\xb0r\\xbe\\xe3\\x83\\xc2\\xe7k\\xaeT\\xe7 0=\\xbf\\nG\\xdb\\x9c\\xc3\\xc1\\xf5f\\x1f\\xd2\\x80X2\\x96\\'\\x00\\xf7\\xc5H\\x0b\\x1e\\x81\\x8f\\xe2?\\xc6\\x9a\\x8c\\xe3\\xa1.U \\xec\\x99\\x1cpK#\\xf9\\xae\\xa0n?|\\x01\\x8e\\xbd\\xbf*\\x9d\\xccpD\\x1d.#i7m\\xda\\xa4\\x83\\x8e}\\xbd\\xaa\\'\\xba\\xd4\\x15\\x8c/\\x19\\x10\\xaf\\x08\\xdb{u\\xfc\\xf2h\\x83\\xec7\\x13l\\x86M\\xd3\\x0c\\x9c\\x06\\xed\\xd78\\xa6\\xf9\\x81T\\xa8\\xdd\\x9b&\\x85\\xe1\\x97\\x06Ec\\xfd\\xe1\\x81\\xf9\\xd3c\\xd3\\xe5\\x89\\xcc\\xebq\\x11VbQFA\\x00\\x9e\\x07N\\xb8\\xff\\x00\\xf5\\xd5\\x9b[)X\\x80\\x11\\x8e\\x009\\xc9\\xe3\\x9f\\xf3\\xfex\\xa8L\\xf9\\xb8x\\xd8\\x8c\\xa3\\xb2\\x93\\x8e\\x98&\\xa6\\xc5\\x95\\xed\\xec\\xa6\\x9ay6J\\x9f*\\xf2N}G\\xb5K\\x05\\x94\\xf2J\\x15$\\x8c\\x1c\\xe4\\x12O\\xf8U\\xb8 d\\x8c\\xb0C\\xca\\x91\\xd74\\xdb3\\xb2\\xe1\\x18\\x8e\\x834{j\\x94\\xfd\\xd4\\xcaRi\\x19RX[F\\xbb`RO\\xa0\\xed\\xef\\xcf\\xd0\\xd4v\\xe9,\\xd7\\x91\\xb3aW\\x9c\\x82z\\xf4\\xab\\x90\\xd8Il0\\xe7\\x1c\\x93\\xc9\\xfcs\\xfa\\xff\\x00\\x9e\\x94\\xdb\\x99\\xa0k\\xdbo)\\xff\\x00\\x85\\xfa\\x9eO\\xdd\\xa3\\xeb\\x15[\\xd5\\x8dT\\x92z\\x15\\xa3\\xb6\\x7f\\xedWR\\xe9\\x8c\\x13\\xd3\\xd8T7\\x08\\xbep3D\\xc4\\xed\\xc7\\xcb\\xf9z\\xd5\\xc8\\x8e\\xedY\\xb0s\\x8eN?\\xdd\\x14\\x977p\\tN1\\xd3\\xb15\\xd7F\\xb4\\xacW\\xb6\\xa8V\\xbe\\x82\\xcde\\x89a\\xb6u&\"\\xd9#\\x81\\xf3\\x1f~\\xdf\\xd7\\xbdCq\\x0c\\xb1~\\xec\\xf2\\x8c0W\\xb9\\xed\\xf4\\xadF\\x92\\x19\\'\\x8d\\xbd#\\xe9\\x9e>\\xf5\\x17\\xdeNq\\xcfo\\xbd\\x9c\\xfe?\\xd2\\xba}\\xa4\\xcd#9X\\xc6\\xf2\\x13\\xfe}\\xdf\\xf3\\x1f\\xe3R\\xc3\\xa7\\t\\xa2\\xf3\\x86\\x17\\xe6 \\xabu\\xfd*\\xe7\\xee\\x07P?#J6\\x98\\xf2\\x9d2:}E\\x1e\\xd2c\\xe7\\x91DX!\\xe4\\x11EN\\xbd\\x07\\xd2\\x8a=\\xa4\\xc3\\x9eFh\\x8eK\\x85\\xf3\\x1aR2\\xb9??\\x00\\x01\\x93\\xde\\x976g\\x91r?#\\xfe\\x15\\xe7\\xcd\\xe2\\xddJk\\xb6\\xb6\\xb0\\xd5|\\xdcrv\\xf1\\xb8s\\x9e\\xfe\\xdf\\xadY\\xb6\\xd4.\\xaeX)u\\x8f\\'\\x1c\\xe0\\xd7\\xd6>\\x16\\xc6A\\xff\\x00\\r\\xbf\\x9c\\x7f\\xcc\\xd3\\xd9\\xa3\\xbe\\xb5\\x9d\\xa3\\x8d\\x96\\xd6P\\xcb\\xbf\\x93\\xcf\\x07\\x1f\\x87\\xb5J\\x97W\\x1eb\\xf9\\xa4l\\xdc7u\\xe9\\xf9\\xd7%\\xa7O\\xa8[\\xdb:\\x7fh&7\\x96<`\\xf4\\x1d\\xb3\\xedUS\\xc6\\xab$\\xefk,\\xeeJ\\x92\\n\\xc6\\x0bo\\xc7P+\\x19\\xf0\\xf6&1o\\xd9\\xbd\\xbb\\xaf\\xf3\\x0ff\\x8e\\xe6c\\x14\\xe3\\x0b(\\xe7\\x8f\\x94\\x1au\\xb4\\xf1\\xdb\\xc0!}\\xb9\\x0cO\\xcd\\x92y\\xe7\\xb5q\\xf6\\x9e/-.\\xd3\\xa3]\\x91\\x9eX\\xa3q\\xdb\\xa6+E|Eh\\x14/\\xd9\\x89a\\xc1\\x0ev\\x9f\\xcb\\x15\\xe6K*\\xc5Cx~+\\xfc\\xc9\\xe5\\x81\\xd2C~\\xcb2\\x9bEC.~A\\x83\\xcf\\x1e\\xe3\\x1d*o\\xb7\\xc2\\xdc_0Q\\xdd\\x94~U\\x87is,\\x91}\\xb6\\xdc,EG\\x04\\x9c\\xf5\\xe3\\xfa\\x8aC\\xaa,\\x92y76\\xe6L\\xfd\\xe3\\xe6\\xe0\\x9f\\xcc\\x13\\\\8\\x8c\\x1dZn\\xee6^\\xab\\xfc\\xc9\\x95\\'-R\\xd0\\xd6\\xb8\\xb8\\x80ql\\xe7\\xcb\\x07\\xe5l\\x9c\\xe0\\xd5\\xa8$Y-v\\x85\\x00\\xe7\\xb0\\xe6\\xb1\\x84\\xd14H\\x91\\xae\\xc0\\x06Q3\\x92\\xbf\\x8dZ\\xb3\\xbdh\\xc0O\\xb2\\x829\\xc3o\\xc7oJ\\xe4\\xabI\\xc2\\x17ks)E\"\\xf8Q\\xd0\\x93\\x8c\\xfa\\xd4\\xd6+\\xa9cr\\xa0 \\x8c\\xae\\xe0:}j\\xa4wFO\\xf9d\\x17\\x80z\\xe6\\xaf\\xdbj76\\xd1\\x84_\\x98\\x01\\x80\\x18\\xf4\\x03\\x8f\\xf3\\xff\\x00\\xd6\\x15\\xc3\\'\\xcb\\xb9\\x90\\xd8m\\xae\\xae&\\x90];\\x05\\n\\n\\xed=\\xf2??\\xf3\\xf4\\xa74\\xcdj\\x01@\\xbd;\\x9f\\\\\\x9e\\xd4\\x92\\\\Ot\\xc4\\xbc\\xf8\\x19\\xc8\\xef\\xedN\\x89\\xa1V\\x1en\\x0f\\xaf\\xcd\\x8e\\xf9\\xf4\\xacd\\xd4\\xa5\\xa0^\\xc4\\x9fi\\x1d\\xd2<\\x91\\xceM6YVA\\x9f-2\\x07\\xf0\\x81\\xea*\\xb3\\xb5\\xc2.v\\xe4\\xfa\\x11\\xda\\x98\\x97\\x8f\\x92%\\x87\\x19\\x03\\x0cO\\xbd\\'\\t\\xc9Z+Q\\xc7\\xdevB\\xcd\\xfe\\xb9\\x99Tg<q\\xd2\\xa2\\xbb\\xb0\\x8d\\xa79\\x94\\x8e\\xa3\\x03\\x1f\\xe74]\\xde\\xc5\\x19-\\x08\\xf3\\x0b\\x1e@8\\xc7=j+\\xbf=e\\xde$\\xdb\\x83\\x8cm=\\xebjTq\\x0b\\xec\\xfe_\\xe6_\\xb2\\xa9\\xdb\\xf2,Oj\\x0e\\xcc\\x1c|\\xbd\\x01\\x1e\\xa7\\xd7\\xfc\\xfe\\x94\\xd1f\\x0b\\x01\\xbc\\x9e@\\xea?\\xc6\\xa07\\xa6lo]\\xa5F\\xdey\\xcf\\xf2\\xc55\\xa7\\xca\\x95\\x12\\x00H\\xe0\\x84\\xe6\\xbd\\x08^\\xc9=\\xcd#\\t\\xa5k\\x12\\xddH\\xb6\\x9f2\\x00}N?\\xc2\\x99k*\\xde\\xc3\\xf6\\x92\\x00;\\x8a\\xe1O\\xa5R{\\xbc\\xc9\\xb2x\\x83dgvO=\\xbf\\xcf4\\xb2;\\x07\\xc4q(S\\x8c\\x06\\x19\\xadU*\\x92\\xd9\\x0f\\x96]\\x8b\\xfeD~\\x83\\xf4\\xff\\x00\\n+5o!+\\x92\\xe8\\x0f\\xa0\\x8c\\x7f\\x8d\\x15^\\xc2\\xaf`\\xb3>\\\\\\xd3\\xbcsuqx\\xed\\xa79\\xdcA\\xf32\\xfd\\xfd\\x06\\x7f\\xcf\\x15y|q\\xe2\\x08F\\x0c\\xe3\\x1d\\xc6\\xf1^\\x1ba\\xf1&\\xcbL\\x8c|\\xea\\x1b\\x1f(\\xc7\\x00\\xf6\\xff\\x00<t\\xabs\\xf8\\xfa\\xea;\\x7f\\xb7\\xc3\"\\xf9\\xaeIn9\\'<\\xf1\\xfe\\x7f\\x1a\\xfe\\xc2\\x9f\\r\\xaf\\xf9\\xf6\\xbf\\xf0\\x13\\xd0\\xfa\\xadC\\xdab\\xf1\\xc5\\xdc\\xf7F\\xe6\\xff\\x00R\\x91$T\\xc0\\x89\\x0eC\\x01\\x92\\x0f\\x03\\xd7?\\x95\\\\\\xf0\\xf7\\xc4]J7\\x9a\\x18\\xe1DC\\x90\\xd7M\\xd6,\\x9f\\xbd\\x8ez}\\rx\\xae\\x8d\\xf1\\x1a\\xf3E\\xb6xmn\\x82\\x9b\\x8726\\xd6\\xc7$\\x05\\xe7\\x1d\\xf0\\x05Y\\xb2\\xf8\\x83}dd\\x9ai\\x06\\xd93\\xb8w \\xf3\\xfa\\xff\\x00J\\xf3\\xabp\\xca\\x92q\\xe4Z\\xab|!\\xf5Y\\xa5s\\xe8-;\\xe3\\x04\\x88\\x82\\xd4\\xf8\\x96\\x1f\\x9b\\xa3\\x181\\xff\\x00\\xb2WE\\xa4x\\xb2\\x1dKJK\\x89\\xefR\\xe2\\xe1\\xa4\\x91L\\xaa0\\x08\\r\\x85\\x00`t\\xe9\\xd2\\xbes\\x1e7\\xb7\\xd4|\\x95\\xb8p\\xcb\\x91\\xb4\\x13\\xd7\\xdf\\xda\\xbb+_\\x13\\xcfie\\x1d\\xbe\\x8a\\xe1gRN@\\xf5\\xe4};W\\xcc\\xe6\\x1c!\\x1ako\\xfc\\x95\\x99\\xfb${\\xae\\x97q\\xaay\\x1fig\\x1e@\\xfb\\xc0\\x11\\xf9\\xfa\\xf5\\xab\\xdat\\xed=\\xc2\\x8f~3\\xc5y\\xd7\\x83<k\\xa8[\\xc2\\xb7:\\xac\\xdbnT~\\xed\\xba\\x1ex?\\xa15\\xda\\xe9\\x1a\\xc5\\xd5\\xf4?h\\x13\\x9c\\x15\\x1d\\t#5\\xf9\\xe6w\\x90J\\x9cS\\x8a\\xe8\\xba>\\xe3q\\xe5\\x8bGI\\x1d\\xa3\\x06\\xf3\\xd5\\xbeV\\xc1\\xc0=*\\xf2\\xdc\\xac\\x88!\\x18\\r\\xeb\\x9e\\x7f:\\xe7[X]8A `e\\xb9\\x19\\x90\\xf7\\'\\x90\\x7fAZ\\xb0\\xcd\\xe5\\xbaJ\\xf8\\xf3\\x1dr8\\xeb\\x9e\\xf5\\xf1\\x19\\x8e\\x02\\xa5\\x18\\xc6\\xfd?\\xc8\\xe0\\xa9\\xf13V\\xd9\\x81$\\x00>\\xe8\\xc6Z\\xae\\xae6\\x80p8<\\x93\\xd7\\x9a\\xcc\\x99\\x16\\xe6\\xcdT/\\x00\\x1e\\x18\\xf4\\xea+B\\xd9H\\xb5\\x86/\\xee\\xc0\\xa3\\x18\\xf4\\x00W\\x83V\\x8akS\\x11\\xcd#\\xc5\\x82\\xbd\\xf2\\x0eN)\\x0c\\xf2\\xb0\\xc6@9\\xea_\\xff\\x00\\xafJ\\xea\\x92\\x15\\xf3\\x8epI\\x1f\\xa7\\xa5V\\xd5\\xae-\\xa3P\\xb26\\x06y\\xce3\\\\\\x90\\xc3T\\x9c\\xec\\x8d!M\\xca7$\\x9fRR\\xa4yg\\x80\\x0f\\xff\\x00[\\xfaVn\\xa5\\xad\\x05\\x0b\\x07$\\xb8$\\x9cg\\x18\\xfat\\xeb\\xfaUmC\\xc4*\\xcaV\\xe3v:\\x0c\\xfaq\\\\\\xe7\\x89<]s\\xa6i\\xee\\xbaL\\xb8\\x12\\x82\\'\\x03\\xa1#\\xee\\xf4\\xfa\\x91_K\\x97\\xe4\\xb5+V\\x8a\\xf5\\xe8\\xfb\\x1aB\\x9b\\x8c\\x936_P\\x93N\\x90\\xc9#\\x16\\x0cpy\\xcf\\xb7\\xff\\x00[\\xff\\x00\\xd5Iq\\xe2w<\\xa8\\x00\\x02}1\\xf4\\xff\\x00?\\xadq\\x83\\xc77\\xff\\x00b\\xfd\\xf5\\xce;\\xb7^\\x99\\xe7\\xeb\\xe9X\\xd3x\\xb7JX\\xe7(\\xa8\\x05\\xe0\\xc8\\x04u\\xeb\\xdb\\x1e\\xf5\\xf5\\xf8N\\x12\\xa9Um\\xf83c\\xd0\\x9b]\\x92\\xe1\\xb7\\xac\\x98\\x03\\x8c\\x96\\x1c\\xf3\\xd6\\xa3\\xba\\xd7f\\xb7\\xb7\\x92r\\xe4\\xec\\x8c\\xb0\\xc1\\xf6\\xaf1\\xbc\\xf1n\\x95\\x01\\x81\\x06\\xcc\\xc3\\x11\\\\\\x90\\x01\\x1f3\\x1c\\x0f\\xcf\\xfaQm\\xf1b\\xda\\xd2T\\x82)\\x15\\x10\\xb0\\x07\\x07\\x1cf\\xbdHpbS\\xd5/\\xfc\\x05\\x8c\\xf4ms\\xc5\\romop\\x10\\xfc\\xf8\\x04\\x0e\\xddz\\xd6\\x84\\xba\\xf3<H\\x8a\\xc0n\\x89I9\\xeeEx\\xd6\\xa9\\xf1\\xb6\\xe1n~\\xcf\\x0c\\x87k\\x1c\\x10\\xaey\\xfc\\xaa\\xbc\\xff\\x00\\x13\\xed\\xed\\xe5\\xf2\\xd1# \\xa0nq\\xdf\\x9fJ\\xec|\\x1d\\xeeh\\x97\\xfe\\x02\\xca\\x8cy\\x9d\\x8f^\\x92I]\\xcb\\xb1RI\\xeb\\xbd\\x7f\\xc6\\x8a\\xf1\\xef\\xf8Z\\x90\\xff\\x00\\xcf(\\x7f!\\xfe\\x14V\\x7f\\xeat\\xff\\x00\\xa8\\xb2\\xfd\\x92>\\x19\\x9b\\xc4\\x93\\xcaQ\\x80EUe \\xa1$\\xe3#\\xd6\\xadA\\xe2\\xa8\\xed\\xee\\x0c\\xdf\\xda\\x0f \\xc9\\xc4r\\x1e\\x07\\xe4+\\x94\\xb4x\\nn\\x96\\xf6\\x1d\\xc1I\\xdad\\x1dG\\xa0\\xf7\\xe9M\\x17\\xb6dg\\xeco\\xff\\x00~\\x8d\\x7fj\\xcb\\x03\\xcf\\xf0\\xa3\\xef+e\\xdc\\x8dr\\xb3\\xb4\\x87\\xc5\\xd0H\\x0b\\xcd\\xa9H\\x08\\x97p\\x03\\xa7c\\xe9\\xfes[\\t\\xe3\\xb8o^\\xda\\xd9\\xdd~Y\\x14(\\x04\\xfc\\xfcc\\x07\\xd3\\xf0\\xaf0\\x97Q\\x8a9\\x82\\xc7k&\\xd2\\xb9\\xc8\\x8c\\xe0u\\xf6\\xab\\x16\\xba\\xecV\\xd2%\\xd1\\xb6q\\xe5\\xbe\\xf3\\x95 \\x0cz\\xd6/*\\xbe\\xf1\\xfcL\\x1e\\x02\\xa3M\\x1e\\xc9\\xa7\\xf8\\xf7M\\xb8\\x91#yv:\\xb7\\n\\x84\\xf3\\xf5\\xc9\\xe2\\xbb?\\x0e\\xfcD1\\xbcr\\x88\\xa3V\\xc9\\x0b\\xf37@k\\xe7\\x9d/X\\xb5\\x96\\xe8^q\\x9c\\xfa\\x8c\\x8f\\xfe\\xbdvZ\\'\\x8d\\xf4\\xd5\\x95!\\x96\\xea\\x14|\\x90Q\\xa5\\x00\\xe3#\\xb1\\xe7\\x9e\\xbf\\x85|\\xf6k\\x91)\\xad#\\xf8\\xf9\\x1e^\\'\\x00\\xa8-Q\\xf4e\\xaf\\x8e\\x86\\xa9j-\\x9eQ\\x19|~\\xf6\"w\\x0c\\x10{\\xfd1^\\x83\\xe0\\xcf\\x18\\x94\\xd3\\xc4\\x0bz\\xcc\\x08\\x03q\\xeb\\xcfO\\xf3\\xda\\xber\\xf0\\xdf\\x8b\\xac\\xa5hJ\\x04pr8`{b\\xbd;\\xc1\\xbe)\\xb60\\xacb!\\xb9\\x88\\xc2\\x81\\xcf\\xe5\\xd7\\xff\\x00\\xd7_\\x96\\xe7\\xdc=(\\xc7\\xe1\\xd2\\xcb\\xaf\\x99\\xe2b\\x9aT\\xdbJ\\xc7\\xb7h\\xde%\\xb6\\xba\\xb8\\xb1\\x8d\\xdfw\\x94\\xbd\\xfb\\xf2NO\\xe7\\x8a\\xef\\xa1\\x96\\xcbY\\xd6\\xe1\\xc4\\xed\\x16\\xdbV\"8\\xc0+\\xc6\\xdey\\xff\\x00<\\xd7\\x87xW\\xc4\\x16\\xa9wj\\xb76\\xe6=\\x9c\\x1f3\\xe5\\xc7\\'\\xaeG\\x1d\\x7fZ\\xf6\\x1f\\x0b\\xea\\xbaE\\xee\\xad\\x19\\x8e\\xfa\\xd9?\\xd0\\xe4\\xfd\\xe1\\x9d@\\x1fs\\x8c\\xe7\\xf4\\xaf\\xc6\\xf8\\xaf\\x01*\\x14Z\\x845\\xd7\\xf2\\xf5<\\x1fi\\'\\'vu\\xd6V\\xb2\\x98\\xc4P!l.\\x01=kAl\\xed\\xc4(\\xbet\\x9b\\x82\\x80\\xeaT|\\xa7\\xb8\\xaazv\\xb7aj\\x03\\rF\\xd8\\xabc\\x07\\xed\\x0b\\xd3\\x8a\\xb7m\\xe2]%\\xad\\xe5\\x9e\\xd6Xel\\x9d\\xc2)U\\xb9\\xcf\\xb6k\\xf3\\x08C\\x13Z\\xa2\\xa6\\xa9j\\xff\\x00\\xae\\xe3\\xf6\\x913u}F\\x186y\\xa7j\\xac\\x87,3\\x9e\\x9dk\\x96\\xf1\\x17\\x89,\\xa4\\x90\\xa2\\xdc\\xe2\\x02>i\\x17;\\x80\\xfaU\\x0f\\x12|L\\x82\\xf3R\\xb8\\xd2\\xda\\x00\\x02.X\\x93\\xf7G\\xa9\\xf4\\x15\\xe7^1\\xf8\\x91gk\\x14\\x9aj\\xc8\\x866R\\x1aq&W\\x1f^\\x83\\xad}\\x9eG\\xc2x\\x9cK\\xe6\\x9cZ\\xbfK\\xae\\xff\\x00\\xd7SJu\\xd2\\xf7N\\xd3\\xc4\\x1e9\\xb3\\x92Sla\\x8dW\\x03.\\xac\\xd9\\xfa\\xf5\\xc7\\xa5p\\x9e*\\xf8\\x83g\\xa4\\xabY\\xab\\xa4\\x9en\\xef\\x9aBr\\xb8\\xe3\\x808\\xef\\xfc\\xab\\x03\\xc5\\xfe<\\xb1\\x86\\xf7q\\xb8\\x8b\\x95\\xef(\\xe6\\xbc\\xbf\\xc6\\xbe;\\xb7\\x93U\\xb7\\x13\\xca\\x8a$\\x12yyp7\\xf2\\xb9\\xc7\\xafo\\xce\\xbf]\\xc8x:/\\xdep\\xbb\\xbb\\xeb\\xe4v\\xc23\\xab\\xa4N\\xfa\\xe3\\xe2\\x15\\xbd\\xd2\\xb4\\x0fv`P\\x0f\\xcd\\x1f_\\xd7\\xf9{W-\\xac\\xfcS\\xb5\\xb4\\x96\\xda;@\\x1e;|\\x05.\\xcc\\x0b\\x81\\x8c\\x13\\x83\\x8eq\\xfa\\xd7\\x03\\xac\\xf8\\xe7H\\xb7a\\x18\\xd5mC\\xe7%M\\xc2\\x86\\xfc\\xb3\\\\\\xf6\\xb9\\xf17\\xc3\\xf6\\xa8`\\x80\\xc5)\\x03\\x86\\x8a@N?\\x01_\\xa2e\\xdc-\\x1av\\xbd?\\xc7\\xfe\\t\\xd7K\\x05Z[\\x9e\\xa7\\xac|J\\xd3\\xa4\\xbcI\\xedg/\\xe6E\\xbaU$\\xfc\\x8d\\x921\\xf9\\x00y\\xf5\\xaar|D\\xb5 \\xb8E.9\\\\\\xb3`\\x1f\\xcf\\xa5x\\xea\\xf8\\xd7O\\x98\\xb4\\x97\\n\\x90\\x12\\xdf\"\\xca\\xdbK\\x0fQ\\x9e\\xa2\\x92_\\x19\\xe9QB\\xf3%\\xd4%\\x91\\x0b(\\x13\\x0e\\xa2\\xbd\\xa7\\xc2\\xd4[\\xbf\\xb3\\xfc_\\xf9\\x9dq\\xcb\\xa6\\xd6\\xc7\\xb0/\\xc4\\x88\\xc1\\xc9\\xb3\\xb3b\\x0fV\\x91\\xf3\\xfc\\xeaQ\\xf1\\x16&\\xb6\\xfbC\\xdb\\xc0X\\xb1\\x18\\x0e\\xf8\\xc0\\xfck\\xc5?\\xe1f[\\x1ewG\\xfa\\xd4\\x8b\\xf1\\x16\\xc6K=\\xcds\\n\\x9d\\xe7*e\\x00\\xfeU\\xad>\\x18\\x85\\xed\\xc9\\xf8\\xbf\\xf3.\\x19|\\xe2\\xefc\\xda#\\xf8\\x87\\x13\\xa8aa\\x11\\xf7\\x126?\\xf4*+\\xc6\"\\xf8\\x87\\xa7\\x18\\xc6\\xeb\\xab|\\xff\\x00\\xb50\\xcf\\xf3\\xa2\\xaf\\xfdZ\\xa5\\xfc\\x9f\\x8f\\xfc\\x13o\\xa9L\\xf2\\xde\\t\\x00\\xb8\\xc6G\\xf1\\x8f\\xf0\\xabl\\xcf\\xb8\\xfc\\xbd\\xff\\x00\\xbdM\\x8e\\xc2fL\\xc9?%r\\x08\\x18\\x19\\xa5\\xb9\\xb5\\xd5#c\\xb2Xzw\\x8f=\\x7f\\x1a\\xfd3\\xdaF\\x1f3\\xed\\x9f\\xee\\xfb\\x91\\xcb<\\xb1\\xc9\\xb5X\\xf4\\x07\\x1b\\x8f\\x1f\\x954\\xdd\\x98\\xd4\\xc90%\\x14e\\xc1$\\xe4SZ\\xcbQ\\xb9\\x97t\\xef\\x11 \\xed\\xc2\\xa0\\x1c~t\\xd9,e\\xb6\\x85\\xee\\t\\\\\\xc6\\xbb\\x88+ZFN[\\rI\\xb2{k\\xb8\\xef\\x00\\xfb*\\x88\\xc0\\x18\\xce*\\xe5\\xac\\xd1\\xd8\\xce\\x1a\\xe9\\xd5\\xe4\\x07\\x9f\\xa1\\xe4V#\\\\\\xcd\\x8c\\xa6\\xd0q\\xc6\\xd4\\xc7\\xf9\\xfe\\xb5\\x1b\\xbbOpevf\\xf9@\\'\\x83\\x90\\x07J\\xe7\\xc4R\\xf6\\x8bc\\x93\\x15A\\xcb\\xe2\\xb1\\xe8\\xde\\x1c\\xf1\\xc4\\xa2\\xfe\\xde\\xd5$\\x00\\x1d\\xc0\\x1cz)?\\xd3\\x15\\xe9\\x1e\\x18\\xf1\\xdc\\xf0]\\xc0\\xadx8\\xe3\\xf0\\xaf\\x9f-n\\xd2\\x19\\x12r\\xdf2\\xf0\\t>\\xde\\xbe\\x95\\xbb\\xa6\\xf8\\x96h\\x1de\\x17 m\\xc1\\xe9\\xdb\\xbf\\x19\\xe9\\xed_=\\x98\\xe5Q\\xc4CT\\xbf\\xa6|\\x9eg\\x81\\x94\\x93\\xf6KK~7>\\xb8\\xf0\\xe7\\x8c\\x8d\\xed\\xd2\\xcen\\xc7\\xcc\\x01\\xcey\\x15\\xdc\\xe9\\xff\\x00\\x11^\\xc5V\\x08\\xee\\x94\\xb8S\\xc6;q\\xcf\\xf9\\xfe\\x95\\xf2W\\x85>&Icmowuy\\x10i\\x13\\xe7\\xc2`\\x1eH\\xe9\\x9e+\\xa9\\xb7\\xf8\\xa0D\\xc3P\\xb4\\xbb\\x84\\xb6\\xd2\\x84H\\x99\\x1c\\xf5\\xe3>\\xd5\\xf9\\xceu\\xc1\\xf4qU\\x14\\x94\"\\xec\\xef\\xaa\\xff\\x00\\x80|\\x8d\\\\=jrqq\\xfc\\x0f\\xab\\xed>+\\x84\\x89M\\xc5\\xe2\\xa8\\xef\\x8c~=\\xab\\x1c\\xfcT\\xd7\\xafn\\xee\"\\xd3\\xb51\\x12\\t\\xdc\\x06\\x04\\x7fx\\xf3\\xd0\\xd7\\xcd\\x93\\xfcV\\xbf\\xb8\\x1b%\\xbc\\xb6\\x1c\\xe3\\xe4\\x8b\\x1f\\xd6\\xa1\\x8b\\xe2\\xa0\\xf2^&\\xd4\\x11pH\\x1b\\x17\\x19>\\xfc\\xf5\\xaf\\x06<\\x07\\x84\\x84\\xd4\\xe3F7\\xff\\x00\\x0f\\xfc\\x02#\\x82\\xc4\\xcfk~?\\xe4{\\xce\\xbb\\xe3y\\xee\\xc4\\xcbm\\xab/\\xda\\x94n\\xba=IN\\x80t\\xc7Z\\xe2\\xb5o\\x88\\xb6v6\\x07\\xed\\xd2\\xa3\\xf28\\x07\\x83\\xed^$\\xff\\x00\\x14\\xeet\\xddN\\xf2k=U7\\\\\\xc0\"\\x7f9wp\\x1b<r9\\xcds:\\xef\\xc4}BbWS\\xbb\\x81\\xa0 \\x92\\x16,7\\xd79\\xfe\\x95\\xf5\\x99?\\x08Q\\x8c\\x14\\xe7\\x18\\xab\\xf9v\\x7f#\\xd1\\xc2e8\\x89\\xbdm\\xf8\\xff\\x00\\x91\\xea\\x1e\\'\\xf8\\xa5\\xe1\\xcb;f\\x8a]h\\xc8\\xc4t9\\xe0\\xfeU\\xc1\\xdex\\xf6)\\xeeF\\xa2\\x9a\\x83\\\\$;\\xb6\\x86\\xff\\x00\\x96y=\\xb8\\x1dq\\xfaW\\x17q\\xaaL\\x14\\xab\\xc1h\\xe4\\x9f\\x94\\xc9o\\x92G^\\xb9\\xf7\\xaa%\\xe4\\x9a\\t-\\xda8\\xd29\\x80\\xdc\"@\\xa7\\x8c\\xf4\\xf4\\xeak\\xee2\\xee\\x1f\\xa1\\x84M\\xa4\\xaf\\xe8}\\xae\\x0b$\\x9cR\\x93\\xe5\\xfe\\xbeGO\\xa9\\xf8\\xa6\\x1b\\xc9\\x8d\\xf9Q\\xf7\\x08\\x1c{\\x1cVM\\x9e\\xb1\\x0c\\xd6\\xc1\\xee\\n\\xef\\n\\x01\\xfa\\xd6bF\\xb1B`B\\xdby?1\\xc9\\xaa\\xafk\\x0c\\xd2\\t\\xa4/\\xbb\\x18\\xe1\\xb0?,W\\xb3O\\x07\\x18tG\\xafO/\\x8cwH\\xd7\\x97^\\xfbKo\\x98\\x02W\\x85,?\\x87\\xff\\x00\\xd7\\x9ao\\xf6\\xacG\\x80\\xab\\x93\\xc0\\xe0\\xd5\\x18\\xec\\x8d\\xda\\xef/\\xf7>P\\n\\xe7\\xdf\\xfa\\xd2\\xbe\\x96\"C+8\\xc2\\r\\xc7\\xe5\\xc7J\\xe9T\\xa2\\x95\\xac\\x8d\\xfe\\xadIid^\\xfe\\xd0o\\xee\\x8f\\xd6\\x93\\xfbA\\xf3\\x9d\\xa3\\xaf\\xa5f\\xed\\xb7\\xf4o\\xfb\\xe7\\xff\\x00\\xadA\\x11\\x9e\\x14\\x12=\\xc5\\\\)\\xc2\\xfb\\x11:\\x14\\x94v4\\x7f\\xb4\\x1f\\xdb\\xfe\\xf9\\xff\\x00\\xeb\\xd1Y\\xdeZ\\x11\\x90\\x87\\xf2\\x14V\\x9e\\xc2\\x1d\\xbf\\x03/eK\\xb1\\xd8?\\x805tpa\\xb5\\x9c\\xfac`\\xfeg\\x8a\\xa9\\x7f\\xe1\\x8dJ\\xd0\\x93w\\x0c\\x91\\xf0r\\x1b\\x1f\\xd35\\xebS\\xc9o\\x03\\xf9+f3\\x9d\\xab\\xc1\\xeb\\xedTn\\xac\\xa0\\x9ea\\xe7\\xda\\xe3\\xd4\\xb2\\x9c\\x13\\xf9W\\xcc\\xc72K\\xe2?E\\xa9\\x97Q\\xb6\\xdf\\x89\\xe5CE\\x91bhL\\xa7~\\xef\\x95v\\xf2F?\\xc6\\xb3\\xae\\xf4\\xdb\\x8by\\x94\\x97lddz\\xf4\\xafi>\\x15\\xd1\\xae\\x00v\\x84+\\x05\\xc09\\x03\\xf1\\xe9X^%\\xf8}\\x0bG#\\xdb\\xc3\\x82#8#\\xae{W\\xa1K4\\xa7\\xfd#\\xc6\\xaf\\x94J\\xf7\\x8f\\xe6y\\x89\\xb6\\x98\\xf4\\x8d\\x89\\xe7\\xf8EAwmt]\\xa5\\x8e\\xd8\\xba\\xf1\\x86\\x18\\xf4\\xfa\\xfa\\xd7M\\xac\\xf8R\\xea\\xc7\\xe6x\\xfa\\xfbW?yczn\\x18\\x00|\\xb0\\x07\\xe7\\x8ek\\xd1\\xa1\\x8b\\xa7S\\xfag\\x8f\\x8a\\xc0T2\\x91\\xe6[\\x95\\x8eH\\x8a.NI\\xed\\x81R4\\xa9\\x13l7\\x1e\\x9d\\x8f5i\\xac<\\xbc\\xbf\\xf1\\x0cg\\x02\\xab\\xdc\\xc1\\xf7\\x80_\\xc0\\x7f\\x9e+\\xaa\\xaf\\xb2n\\xc7\\x8e\\xf0\\xf5\\xa9\\xbe[hOm}4\\xd1\\x88\\xa4\\xb8\\xdb\\x1a\\xaf\\xee\\xd8\\xe7\\x04g\\xb6*\\xe4\\x1a\\xf5\\xec-\\xf6[k\\x86\\x91q\\x9f\\xcb\\xebY)oq\\xb0\\x05\\x88\\x91\\xdb\\xfc\\xe6\\xa4\\x869\\xe3\\x97&,|\\xa7\\xb8\\xe3\\xf5\\xae7\\x84\\xa5))\\x11S\\rNt\\xda\\x925\\xc6\\xbf\\xabn\\xc8\\x07\\xf3\\x1f\\xe3QK\\xa9j\\xa4y\\x89\\xbb\\'\\x93\\xcfr\\x7f\\xfa\\xff\\x00\\xa5R+?#\\x03\\xdf\\xd6\\xa7\\x8c~\\xedw\\x8f\\xe0\\x19\\xc8=j\\xfe\\xaf\\x0f\\xe53\\xa5\\x97Q\\x08\\x96\\xe2V-q#)U\\xf9wg\\xaeq\\x8e*+\\x8by\\xb5,\\xdb\\xdd\\x86\\x8d\\x0f\\x1b\\xcf!G\\xf9\\xe7\\xf0\\xab\\tn\\xf3\\x92\"\\xe0\\x80I\\xc0\\xf7\\xa5637Q\\xc7\\xe9\\xfc\\xe9:t\\xe9\\xebc\\xd3\\xa5\\x81\\xa3\\x18+\\x10$:\\x88?\\xbf\\xb3d\\x18\\x18\\xc9\\x1f\\xe3S\\xacL\\xdc,e\\xb1\\xfe\\xcf\\xf9\\xf7\\xabpi\\xb73\\x8c,y\\xe3\\xbej\\xc7\\xfc#W\\xcc\\xcabC\\xc8\\xf9\\xbeZ\\xc9\\xe2\\xe9\\xc1\\x9d4p\\xb5%UEm\\xff\\x00\\x00\\xcb\\xf2\\xf8?\\xba\\x1d\\x0f\\xf0\\xd4)m+aV\\xdb\\'\\x1d6\\x8a\\xe8\\xa1\\xf0F\\xa12\\x93\\xe4\\x9c\\xed=\\x07z\\x86\\xd7\\xc1\\xfa\\x81\\x00\\x88\\xcf#\\x92W\\xad/\\xaf\\xd3;\\x7f\\xb3\\xea\\x18\\xa2\\xcaA\\xc4\\xbf\\xbb\\xcf\\xddS\\xdf\\xdf\\x8f\\xf3\\xc5<\\xe9w>[\\xb8\\x0c@S\\xbb\\x04WI\\x17\\x83\\xee\\xc2\\x13*\\x1d\\xc0\\xfc\\xa4\\x8cv\\xa8\\x9f\\xc2:\\xac2\\x07\\x10\\x12\\xb1\\x9d\\xcc\\xbbOL\\xd1\\xf5\\xfav1\\x96\\x02|\\xc76\\xd6[\\x06]\\\\c\\xd7\\x14%\\xa4\\xc4n\\x86\\x12\\xe0\\x1e\\xb8\\x07\\xfa\\xd7Eq\\xa4_1\\xcf\\xd8\\x0fs\\xf7MTm\\x0bQ\\x91\\xbc\\xd7\\x88\\xa2\\x9e9\\x1d\\x08\\xf5\\xaa\\x8e2\\x15_*\\x08\\xe0\\xa5\\x17vdy3\\xff\\x00\\xcf\\xb9\\xff\\x00\\xbf\\x7f\\xfdz+P\\xd8\\xa08g@{\\xe4\\x8a+Oh\\x87\\xf5W\\xd8\\xf6\\xfbi\\x85\\xeb\\xf9\\x976Cr\\x12\\xd99\\x1d9\\xcf\\x1cv\\xa9\\xa5\\xbe\\xb4\\x9d\\xbc\\xc9b\\x0c\\xde\\xbbH\\xfeB\\xac\\x1f\\xbd?\\xfds?\\xfa\\x05e\\xafA\\xf4\\xaf\\x86\\xa8\\xa3u\\xa1\\xfa\\x13I\\xee>\\xf6\\xe6\\xdf\\xcdY!\\xb4,\\xc20\\x03e\\xbb\\x1c\\xe3\\x15%\\x9d\\xca\\xde\\xa3G-\\xa0\\xdc\\xc3\\x01\\x8fo\\xc3?\\xccv\\xa9-\\xff\\x00\\xe4\\x19\\'\\xfdv\\xfe\\x8bZ\\x11\\x7f\\xc7\\xb4\\xbf\\xee\\x9f\\xe7I7\\x1d\\x85\\xee\\xc5^\\xc7){\\xe1\\xd8u7\\x95n\\xed\\x04\\xab\\x83\\xb4n+\\xfc\\xb1\\\\\\xed\\xe7\\x81\\xc1\\x89\\xe4\\x8bL\\x06<\\xb0\\xdf\\xbd\\x8eH8\\xee}k\\xbf\\xb3\\xff\\x00\\x90\\x84\\xff\\x00\\xef\\x9a\\xda\\xd3\\xbf\\xe4T_\\xfa\\xfa\\xb9\\xff\\x00\\xd0\\xeb\\xa6\\x8e6t\\xf5_\\x99\\xc7R\\x9d\\x1cV\\xd0Q\\xf9/\\xf2G\\x80k^\\x17\\x16\\xd1\\xc8\\xf1!VF^\\x01?\\xde\\x19\\xeb\\xeck/S\\xd0c\\x12F-\\x01@G\\xef\\x06I\\xcfO_\\xc7\\xd2\\xbd\\'Y\\xff\\x00\\x90\\x9a\\xff\\x00\\xc0k\\x9b\\xbc\\xff\\x00Qu\\xfe\\xe1\\xfe\\xb5\\xebasI\\xceIJ7\\xf9\\xff\\x00\\xc0<J\\x99|a\\x8a\\xf6wVj\\xfbz\\x9c\\xb4\\xf6\\x11\\xdb7\\x95\\x1cYQ\\xc0 \\xf5\\xfc\\xeah\\xec\\xecE\\xa1\\x90\\xd9\\xe6L|\\xacY\\x86\\x0f>\\xfe\\xb5\\xad/\\xfcyE\\xfe\\xf7\\xf55\\x1d\\xb7\\xdd_\\xfa\\xed^\\xda\\xa7)\\xda\\xaa\\x93V\\xd6\\xd7vv\\xe9\\xbf\\xe8y\\x95\\xf2\\xe8\\xc6\\xbf\\xb3\\xe6\\xf8\\x9d\\xb6\\xdb\\xe5\\x7f\\xf22-\\xed 6\\xcf\\xe7Z\\x92\\xff\\x00\\xc0\\xc4\\x9f\\xe4\\rIo\\xa4\\xb3\\xa2\\x93\\t%\\x808\\x0c\\x7f\\xc6\\xb6/?\\xd6\\x0f\\xf7V\\xb4 \\xff\\x00S\\xff\\x00l\\xff\\x00\\xf6U\\xac\\xaa\\xe2\\xaa%\\xa3\\xfcM!\\x97*/V\\x9f\\xfd\\xba\\x8c[M\\x0e\\xe69Y\\xec\\xd4\\xa7\\xcb\\xfb\\xccs\\x95\\xcfN}\\xfb\\xd6\\x9d\\xa6\\x8e/\\x97\\xcb\\x86\\xd5\\x84\\x9f\\xde,O\\xe9\\x9a\\xdb\\xd3\\xfa\\\\}Ejh?\\xeb\\xff\\x00\\n\\xf0\\xf1y\\x95X\\xd5qw\\x7f?#\\xbe\\x8eY\\n\\xb6\\x9bk\\xd2\\xdd\\xbef.\\x99\\xe1\\x16\\xb9pm\\xe0\\xc0\\xf4\\x0c\\x7f\\xadt\\xbag\\x86t\\xb7Y<\\xed;s\\xa9\\\\\\x9f1\\xbb\\xe4\\xf65\\xb9a\\xff\\x00\\x1eo\\xff\\x00]\\x0f\\xf2\\x14\\xbf\\xc4\\xdfO\\xeak\\xccx\\xa9\\xd4\\x92Z\\xfd\\xe7\\xb3\\x0c\\x05\\n1\\xbd\\x97\\xdc\\x8a)\\xa3\\xdbD\\x08\\x8a\\xd4\\xa8#\\x902x\\xfc\\xe9 \\xd1\\xb4$\\xe5\\xb4\\xd4\\xc7\\xa1\\x99\\xc7\\xf5\\xab\\xfd\\x8f\\xd0\\xd5e\\xe8>\\x95\\\\\\xd3\\xee\\xcd=\\x95?\\xe5_r\"\\xd44\\xdd\\x01a\\x12C\\xa7\\xa8a\\x8eD\\xaf\\x81\\xf8g\\xfci\\xd2\\xe9v\\xabl\\x86\\xd6\\xcc\\x07\\x7f\\x97\\x82O\\'\\x1e\\xa7\\xfc\\xfe\\x15\\x1e\\xa3\\xfe\\xad?\\xde\\xfe\\x8dZ\\xdaO\\xfc\\x7fX\\x7f\\xd7\\xd2\\x7f1G4\\xfb\\xbf\\xbc\\xd64h\\xb5\\xac\\x17\\xdc\\x8cF\\xd2\\xed/?q\\x06\\x90\\x03\\xa0\\xc3\\x9c\\xb7\\xf5?\\xe7\\xf4\\xaaz\\xce\\x81eq`\\xb7Vzz\\xc4\\xdb\\x99\\x1coc\\x9c}I\\xf55\\xda\\xe9\\xff\\x00\\xf1\\xf9q\\xf4\\xfe\\x95\\x99\\xe2O\\xf8\\xf7\\x7f\\xfa\\xf9o\\xfd\\n\\xb3\\xab^\\xad\\x18\\xf3FMz6\\x86\\xe8a\\xda\\xf8#\\xf7/\\xf28\\xb3\\xf0\\xd2\\xc2\\xe0\\xf9\\xd3i\\xeaY\\xb9$\\xce\\xc3\\xf4\\xcd\\x15\\xea\\x1a\\'\\xfc\\x82\\xa1\\xff\\x00t\\xff\\x003E\\x1f\\xda5\\xff\\x00\\x99\\xff\\x00\\xe0L\\xe7X\\\\?\\xf2G\\xee_\\xe4\\x7f\\xff\\xd9'>"
      ]
     },
     "execution_count": 39,
     "metadata": {},
     "output_type": "execute_result"
    }
   ],
   "source": [
    "image"
   ]
  },
  {
   "cell_type": "code",
   "execution_count": 40,
   "metadata": {},
   "outputs": [],
   "source": [
    "image = cv2.imread('sharpened_image.jpg')"
   ]
  },
  {
   "cell_type": "code",
   "execution_count": 58,
   "metadata": {},
   "outputs": [
    {
     "data": {
      "text/plain": [
       "<tf.Tensor: shape=(384, 128, 3), dtype=float32, numpy=\n",
       "array([[[ 0.875     ,  0.578125  , -0.8828125 ],\n",
       "        [ 0.875     ,  0.578125  , -0.8828125 ],\n",
       "        [ 0.875     ,  0.578125  , -0.8828125 ],\n",
       "        ...,\n",
       "        [ 0.9003906 ,  0.5332031 , -0.8261719 ],\n",
       "        [ 0.9091797 ,  0.5419922 , -0.8173828 ],\n",
       "        [ 0.9140625 ,  0.546875  , -0.8125    ]],\n",
       "\n",
       "       [[ 0.875     ,  0.578125  , -0.8828125 ],\n",
       "        [ 0.875     ,  0.578125  , -0.8828125 ],\n",
       "        [ 0.875     ,  0.578125  , -0.8828125 ],\n",
       "        ...,\n",
       "        [ 0.9003906 ,  0.5332031 , -0.8261719 ],\n",
       "        [ 0.9091797 ,  0.5419922 , -0.8173828 ],\n",
       "        [ 0.9140625 ,  0.546875  , -0.8125    ]],\n",
       "\n",
       "       [[ 0.875     ,  0.578125  , -0.8828125 ],\n",
       "        [ 0.875     ,  0.578125  , -0.8828125 ],\n",
       "        [ 0.875     ,  0.578125  , -0.8828125 ],\n",
       "        ...,\n",
       "        [ 0.9003906 ,  0.5332031 , -0.8261719 ],\n",
       "        [ 0.9091797 ,  0.5419922 , -0.8173828 ],\n",
       "        [ 0.9140625 ,  0.546875  , -0.8125    ]],\n",
       "\n",
       "       ...,\n",
       "\n",
       "       [[ 0.390625  , -0.6015625 , -0.515625  ],\n",
       "        [ 0.3466797 , -0.640625  , -0.5498047 ],\n",
       "        [ 0.30566406, -0.67285156, -0.58203125],\n",
       "        ...,\n",
       "        [ 0.42089844, -0.62402344, -0.5917969 ],\n",
       "        [ 0.40039062, -0.64453125, -0.6123047 ],\n",
       "        [ 0.390625  , -0.6640625 , -0.6171875 ]],\n",
       "\n",
       "       [[ 0.390625  , -0.6015625 , -0.515625  ],\n",
       "        [ 0.3466797 , -0.640625  , -0.5498047 ],\n",
       "        [ 0.30566406, -0.67285156, -0.58203125],\n",
       "        ...,\n",
       "        [ 0.42089844, -0.62402344, -0.5917969 ],\n",
       "        [ 0.40039062, -0.64453125, -0.6123047 ],\n",
       "        [ 0.390625  , -0.6640625 , -0.6171875 ]],\n",
       "\n",
       "       [[ 0.390625  , -0.6015625 , -0.515625  ],\n",
       "        [ 0.3466797 , -0.640625  , -0.5498047 ],\n",
       "        [ 0.30566406, -0.67285156, -0.58203125],\n",
       "        ...,\n",
       "        [ 0.42089844, -0.62402344, -0.5917969 ],\n",
       "        [ 0.40039062, -0.64453125, -0.6123047 ],\n",
       "        [ 0.390625  , -0.6640625 , -0.6171875 ]]], dtype=float32)>"
      ]
     },
     "execution_count": 58,
     "metadata": {},
     "output_type": "execute_result"
    }
   ],
   "source": [
    "tf.repeat(image, 3, axis=0)"
   ]
  },
  {
   "cell_type": "code",
   "execution_count": 55,
   "metadata": {},
   "outputs": [
    {
     "data": {
      "text/plain": [
       "<tf.Tensor: shape=(1, 128, 128, 3), dtype=float32, numpy=\n",
       "array([[[[ 0.875     ,  0.578125  , -0.8828125 ],\n",
       "         [ 0.875     ,  0.578125  , -0.8828125 ],\n",
       "         [ 0.875     ,  0.578125  , -0.8828125 ],\n",
       "         ...,\n",
       "         [ 0.9003906 ,  0.5332031 , -0.8261719 ],\n",
       "         [ 0.9091797 ,  0.5419922 , -0.8173828 ],\n",
       "         [ 0.9140625 ,  0.546875  , -0.8125    ]],\n",
       "\n",
       "        [[ 0.8847656 ,  0.5878906 , -0.8828125 ],\n",
       "         [ 0.8847656 ,  0.5878906 , -0.876709  ],\n",
       "         [ 0.8847656 ,  0.5878906 , -0.876709  ],\n",
       "         ...,\n",
       "         [ 0.8881836 ,  0.5209961 , -0.8383789 ],\n",
       "         [ 0.90063477,  0.53344727, -0.82592773],\n",
       "         [ 0.9238281 ,  0.5566406 , -0.8027344 ]],\n",
       "\n",
       "        [[ 0.8876953 ,  0.59375   , -0.89160156],\n",
       "         [ 0.88586426,  0.5900879 , -0.883667  ],\n",
       "         [ 0.8847656 ,  0.58898926, -0.8847656 ],\n",
       "         ...,\n",
       "         [ 0.8951416 ,  0.5279541 , -0.8372803 ],\n",
       "         [ 0.9042969 ,  0.5371094 , -0.82592773],\n",
       "         [ 0.9238281 ,  0.5566406 , -0.8027344 ]],\n",
       "\n",
       "        ...,\n",
       "\n",
       "        [[ 0.35546875, -0.6171875 , -0.5263672 ],\n",
       "         [ 0.33166504, -0.63793945, -0.5373535 ],\n",
       "         [ 0.3071289 , -0.6529541 , -0.5494385 ],\n",
       "         ...,\n",
       "         [ 0.37683105, -0.64367676, -0.5909424 ],\n",
       "         [ 0.36254883, -0.657959  , -0.6052246 ],\n",
       "         [ 0.3515625 , -0.6689453 , -0.61621094]],\n",
       "\n",
       "        [[ 0.37597656, -0.6113281 , -0.5205078 ],\n",
       "         [ 0.34118652, -0.64123535, -0.54248047],\n",
       "         [ 0.30566406, -0.6661377 , -0.56555176],\n",
       "         ...,\n",
       "         [ 0.39770508, -0.63378906, -0.5924072 ],\n",
       "         [ 0.37902832, -0.6524658 , -0.611084  ],\n",
       "         [ 0.36621094, -0.6689453 , -0.6220703 ]],\n",
       "\n",
       "        [[ 0.390625  , -0.6015625 , -0.515625  ],\n",
       "         [ 0.3466797 , -0.640625  , -0.5498047 ],\n",
       "         [ 0.30566406, -0.67285156, -0.58203125],\n",
       "         ...,\n",
       "         [ 0.42089844, -0.62402344, -0.5917969 ],\n",
       "         [ 0.40039062, -0.64453125, -0.6123047 ],\n",
       "         [ 0.390625  , -0.6640625 , -0.6171875 ]]]], dtype=float32)>"
      ]
     },
     "execution_count": 55,
     "metadata": {},
     "output_type": "execute_result"
    }
   ],
   "source": [
    "tf.expand_dims(image, 0)"
   ]
  },
  {
   "cell_type": "code",
   "execution_count": 44,
   "metadata": {},
   "outputs": [],
   "source": [
    "image = preprocessing.preprocess_image(\n",
    "    image, 128, is_training=False)"
   ]
  },
  {
   "cell_type": "code",
   "execution_count": 59,
   "metadata": {},
   "outputs": [],
   "source": [
    "logits = model(tf.repeat(tf.expand_dims(image, 0), 5, axis=0), False)"
   ]
  },
  {
   "cell_type": "code",
   "execution_count": 60,
   "metadata": {},
   "outputs": [
    {
     "data": {
      "text/plain": [
       "<tf.Tensor: shape=(5, 1000), dtype=float32, numpy=\n",
       "array([[-0.00477067, -0.02119965, -0.00586628, ..., -0.02349844,\n",
       "         0.01018593, -0.0126137 ],\n",
       "       [-0.00477067, -0.02119965, -0.00586628, ..., -0.02349844,\n",
       "         0.01018593, -0.0126137 ],\n",
       "       [-0.00477067, -0.02119965, -0.00586628, ..., -0.02349844,\n",
       "         0.01018593, -0.0126137 ],\n",
       "       [-0.00477067, -0.02119965, -0.00586628, ..., -0.02349844,\n",
       "         0.01018593, -0.0126137 ],\n",
       "       [-0.00477067, -0.02119966, -0.00586628, ..., -0.02349844,\n",
       "         0.01018592, -0.01261369]], dtype=float32)>"
      ]
     },
     "execution_count": 60,
     "metadata": {},
     "output_type": "execute_result"
    }
   ],
   "source": [
    "logits"
   ]
  },
  {
   "cell_type": "code",
   "execution_count": 61,
   "metadata": {},
   "outputs": [],
   "source": [
    "pred = tf.keras.layers.Softmax()(logits)\n",
    "idx = tf.argsort(logits[0])[::-1][:5].numpy()"
   ]
  },
  {
   "cell_type": "code",
   "execution_count": 62,
   "metadata": {},
   "outputs": [
    {
     "data": {
      "text/plain": [
       "array([115, 847, 728, 935, 530])"
      ]
     },
     "execution_count": 62,
     "metadata": {},
     "output_type": "execute_result"
    }
   ],
   "source": [
    "idx"
   ]
  },
  {
   "cell_type": "code",
   "execution_count": 52,
   "metadata": {},
   "outputs": [
    {
     "ename": "NameError",
     "evalue": "name 'labels_map' is not defined",
     "output_type": "error",
     "traceback": [
      "\u001b[1;31m---------------------------------------------------------------------------\u001b[0m",
      "\u001b[1;31mNameError\u001b[0m                                 Traceback (most recent call last)",
      "\u001b[1;32m~\\AppData\\Local\\Temp\\ipykernel_15712\\2865029816.py\u001b[0m in \u001b[0;36m<module>\u001b[1;34m\u001b[0m\n\u001b[0;32m      1\u001b[0m \u001b[1;32mimport\u001b[0m \u001b[0mast\u001b[0m\u001b[1;33m\u001b[0m\u001b[1;33m\u001b[0m\u001b[0m\n\u001b[1;32m----> 2\u001b[1;33m \u001b[0mclasses\u001b[0m \u001b[1;33m=\u001b[0m \u001b[0mast\u001b[0m\u001b[1;33m.\u001b[0m\u001b[0mliteral_eval\u001b[0m\u001b[1;33m(\u001b[0m\u001b[0mopen\u001b[0m\u001b[1;33m(\u001b[0m\u001b[0mlabels_map\u001b[0m\u001b[1;33m,\u001b[0m \u001b[1;34m\"r\"\u001b[0m\u001b[1;33m)\u001b[0m\u001b[1;33m.\u001b[0m\u001b[0mread\u001b[0m\u001b[1;33m(\u001b[0m\u001b[1;33m)\u001b[0m\u001b[1;33m)\u001b[0m\u001b[1;33m\u001b[0m\u001b[1;33m\u001b[0m\u001b[0m\n\u001b[0m",
      "\u001b[1;31mNameError\u001b[0m: name 'labels_map' is not defined"
     ]
    }
   ],
   "source": [
    "import ast\n",
    "classes = ast.literal_eval(open(labels_map, \"r\").read())"
   ]
  }
 ],
 "metadata": {
  "kernelspec": {
   "display_name": "base",
   "language": "python",
   "name": "python3"
  },
  "language_info": {
   "codemirror_mode": {
    "name": "ipython",
    "version": 3
   },
   "file_extension": ".py",
   "mimetype": "text/x-python",
   "name": "python",
   "nbconvert_exporter": "python",
   "pygments_lexer": "ipython3",
   "version": "3.9.13"
  },
  "orig_nbformat": 4
 },
 "nbformat": 4,
 "nbformat_minor": 2
}
