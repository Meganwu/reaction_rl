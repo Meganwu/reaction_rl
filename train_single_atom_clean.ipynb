{
 "cells": [
  {
   "attachments": {},
   "cell_type": "markdown",
   "metadata": {},
   "source": [
    "# Single atom training\n",
    "This notebook goes through the workflow of setting the hyperparameters, collecting atom manipulation data, and training the deep reinforcement learning agent."
   ]
  },
  {
   "attachments": {},
   "cell_type": "markdown",
   "metadata": {},
   "source": [
    "### Importing modules"
   ]
  },
  {
   "cell_type": "code",
   "execution_count": 1,
   "metadata": {},
   "outputs": [
    {
     "name": "stdout",
     "output_type": "stream",
     "text": [
      "cpu\n"
     ]
    }
   ],
   "source": [
    "import os\n",
    "os.environ['KMP_DUPLICATE_LIB_OK']='True'\n",
    "from matplotlib import pyplot as plt\n",
    "import matplotlib\n",
    "import numpy as np\n",
    "import pandas as pd\n",
    "from collections import deque, namedtuple\n",
    "from matplotlib import pyplot as plt, patches\n",
    "import torch\n",
    "from AMRL import RealExpEnv, Episode_Memory, Createc_Controller, sac_agent, ReplayMemory, HerReplayMemory\n",
    "from AMRL import plot_graph, show_reset, show_done, show_step\n",
    "matplotlib.rcParams['image.cmap'] = 'gray'\n",
    "device = torch.device('cuda:0' if torch.cuda.is_available() else 'cpu')\n",
    "print(device)\n",
    "from matplotlib import pyplot as plt, patches"
   ]
  },
  {
   "attachments": {},
   "cell_type": "markdown",
   "metadata": {},
   "source": [
    "### Setting the anchor image\n",
    "This cell retrieves the current STM scan image and use it as the template for positioning the anchor in STM images"
   ]
  },
  {
   "cell_type": "code",
   "execution_count": 2,
   "metadata": {},
   "outputs": [
    {
     "name": "stdout",
     "output_type": "stream",
     "text": [
      "succeed to connect\n"
     ]
    },
    {
     "data": {
      "text/plain": [
       "<matplotlib.image.AxesImage at 0x1877cf88130>"
      ]
     },
     "execution_count": 2,
     "metadata": {},
     "output_type": "execute_result"
    },
    {
     "data": {
      "image/png": "[encoded data removed]",
      "text/plain": [
       "<Figure size 640x480 with 1 Axes>"
      ]
     },
     "metadata": {},
     "output_type": "display_data"
    }
   ],
   "source": [
    "createc_controller = Createc_Controller(None, None, None, None)\n",
    "img_forward = np.array(createc_controller.stm.scandata(1,4))\n",
    "#TODO\n",
    "#Set the pixel of the top-left corner, widht, and height of the anchor\n",
    "#If the anchor is not used, just set w and h to a small number like below\n",
    "top_left, w, h = (0,0), 3, 3\n",
    "#template = img_forward[top_left[1]:top_left[1]+h, top_left[0]:top_left[0]+w]\n",
    "#plt.imshow(template)\n",
    "\n",
    "template = img_forward[top_left[1]:top_left[1]+h, top_left[0]:top_left[0]+w]\n",
    "plt.imshow(template)"
   ]
  },
  {
   "attachments": {},
   "cell_type": "markdown",
   "metadata": {},
   "source": [
    "### Set the parameters and create a RealExpEnv object"
   ]
  },
  {
   "cell_type": "code",
   "execution_count": 3,
   "metadata": {},
   "outputs": [
    {
     "name": "stdout",
     "output_type": "stream",
     "text": [
      "succeed to connect\n",
      "Load cnn weight\n"
     ]
    }
   ],
   "source": [
    "#TODO\n",
    "step_nm = 0.4 #Set the radius of the manipulation start position relative the the atom start position\n",
    "goal_nm  = 2 #Set the radius of the manipulation end position relative the the atom start position\n",
    "max_mvolt = 15 #Set the maximum bias voltage in mV \n",
    "max_pcurrent_to_mvolt_ratio = 6E3 #Set the maximum conductance in pA/mV\n",
    "max_len = 5 #Set maximum episode length\n",
    "template_max_y = 3 #Set the maximum or minimum row number to search for anchor\n",
    "#Set the path to load CNN weight for the atom movement classifier\n",
    "CNN_weight_path = 'C:/Users/wun2/github/Atom_manipulation_with_RL/training_data_and_model_parameters/model parameters/_atom_move_detector_conv_2460.pth'\n",
    "current_jump  = 4 #Set the current jump gradient/ std(current) threshold required to take STM scan\n",
    "\n",
    "#Set STM scan parameters\n",
    "pixel = 128\n",
    "im_size_nm = 5 #Image size in nm \n",
    "scan_mV = 500 #bias voltage\n",
    "x_nm, y_nm = createc_controller.get_offset_nm()\n",
    "offset_nm = np.array([x_nm, y_nm]) #Set offset to current offset value\n",
    "\n",
    "#Set manipulation parameters to pull atoms from image edge to center\n",
    "pull_back_mV = 5 #bias in mV\n",
    "pull_back_pA = 60000 #current in pA\n",
    "\n",
    "#Set manipulation limit [left, right, up, down] in nm\n",
    "manip_limit_nm = np.array([x_nm - 0.5*im_size_nm+0.25, x_nm + 0.5*im_size_nm-0.25, y_nm+0.25, y_nm+im_size_nm-0.25])\n",
    "\n",
    "env = RealExpEnv(step_nm, max_mvolt, max_pcurrent_to_mvolt_ratio, goal_nm, \n",
    "                 template, current_jump, im_size_nm, offset_nm, manip_limit_nm, pixel, \n",
    "                 template_max_y, scan_mV, max_len, \n",
    "                 CNN_weight_path, \n",
    "                 bottom=False, random_scan_rate = 0.8, pull_back_mV = pull_back_mV,\n",
    "                 pull_back_pA = pull_back_pA)"
   ]
  },
  {
   "cell_type": "code",
   "execution_count": null,
   "metadata": {},
   "outputs": [],
   "source": [
    "createc_controller.stm.setparam('Delta X [DAC]', 118)\n",
    "createc_controller.stm.setparam('BiasVolt.[mV]', 50)\n",
    "createc_controller.stm.setparam('ZPiezoconst', 8.43)\n",
    "createc_controller.stm.setparam('SetPoint', 5.00E-12)\n",
    "createc_controller.stm.setparam('FBLogIset', 50)\n",
    "env.createc_controller.stm.setparam('TipForm_Volt', -3) # Set the bias voltage for the atom manipulation(unit V)\n",
    "env.createc_controller.stm.setparam('TipForm_Z', 0.0) # Set the z position for the atom manipulation(unit angstrom)\n",
    "env.createc_controller.stm.setparam('Tip_Delay', 0.4915) # Set the delay time for the atom manipulation(unit s)\n",
    "env.createc_controller.stm.setparam('Tip_Latddx', 833) # Set the lateral ddx for the atom manipulation(unit angstrom/ms^2)\n",
    "env.createc_controller.stm.setparam('Tip_LatDelay', 20) # Set the lateral delay for the atom manipulation(unit ms)\n",
    "env.createc_controller.stm.setparam('Tip_Gain', 6) # Set the gain for the atom manipulation(unit 1)\n",
    "env.createc_controller.stm.setparam('TipForm_Zoffset', 0.0) # Set the z offset for the atom manipulation(unit angstrom)\n",
    "\n"
   ]
  },
  {
   "attachments": {},
   "cell_type": "markdown",
   "metadata": {},
   "source": [
    "### Create a sac_agent object"
   ]
  },
  {
   "cell_type": "code",
   "execution_count": 4,
   "metadata": {},
   "outputs": [],
   "source": [
    "#TODO\n",
    "batch_size= 64 #Set minibatch size\n",
    "LEARNING_RATE = 0.0003 #Set learning rate\n",
    "\n",
    "#Set the action space range\n",
    "ACTION_SPACE = namedtuple('ACTION_SPACE', ['high', 'low'])\n",
    "action_space = ACTION_SPACE(high = torch.tensor([1,1,1,1,1,1]), low = torch.tensor([-1,-1,-1,-1,1/3,1/2]))\n",
    "\n",
    "#Initialize the soft actor-critic agent\n",
    "alpha = 1.0\n",
    "agent = sac_agent(num_inputs = 4, num_actions = 6, action_space = action_space, device=device, hidden_size=256, lr=LEARNING_RATE,\n",
    "                 gamma=0.9, tau=0.005, alpha=alpha)"
   ]
  },
  {
   "attachments": {},
   "cell_type": "markdown",
   "metadata": {},
   "source": [
    "### Create a HerReplayMemory object\n",
    "Here we use the hindsight experience replay with the 'future' strategy to sample goals"
   ]
  },
  {
   "cell_type": "code",
   "execution_count": 5,
   "metadata": {},
   "outputs": [],
   "source": [
    "#TODO\n",
    "replay_size=1000000 #Set memory size\n",
    "\n",
    "memory = HerReplayMemory(replay_size, env, strategy = 'future')"
   ]
  },
  {
   "attachments": {},
   "cell_type": "markdown",
   "metadata": {},
   "source": [
    "### Create a Episode_Memory object\n",
    "The episode memory class is used to store all the relavant information in each training episode, including the STM images, state, action, reward, etc."
   ]
  },
  {
   "cell_type": "code",
   "execution_count": 7,
   "metadata": {},
   "outputs": [],
   "source": [
    "episode_memory = Episode_Memory()\n",
    "#TODO\n",
    "#Set the folder name to store training data and neural network weight\n",
    "folder_name =  'C:/Users/wun2/github/Atom_manipulation_with_RL/test_nian'"
   ]
  },
  {
   "attachments": {},
   "cell_type": "markdown",
   "metadata": {},
   "source": [
    "### Set the hyperparameters for Emphasize Recent Experience replay"
   ]
  },
  {
   "cell_type": "code",
   "execution_count": 8,
   "metadata": {},
   "outputs": [],
   "source": [
    "c_k_min = 500\n",
    "eta = 0.994\n",
    "max_ep_len = max_len"
   ]
  },
  {
   "attachments": {},
   "cell_type": "markdown",
   "metadata": {},
   "source": [
    "### Create empty lists for logging performances"
   ]
  },
  {
   "cell_type": "code",
   "execution_count": 9,
   "metadata": {},
   "outputs": [],
   "source": [
    "episode_rewards, alphas, precisions, episode_lengths = [], [], [], []\n",
    "avg_episode_rewards, avg_alphas, avg_precisions, avg_episode_lengths = [], [], [], []"
   ]
  },
  {
   "cell_type": "code",
   "execution_count": 10,
   "metadata": {},
   "outputs": [],
   "source": [
    "max_steps = 5\n",
    "num_episodes = 50\n",
    "episode_start = 0"
   ]
  },
  {
   "cell_type": "code",
   "execution_count": null,
   "metadata": {},
   "outputs": [],
   "source": [
    "for i_episode in range(episode_start,episode_start+num_episodes):\n",
    "    print('Episode:', i_episode)\n",
    "    episode_reward, episode_steps = 0, 0\n",
    "    done = False\n",
    "    state, info = env.reset(update_conv_net=False)\n",
    "    show_reset(env.img_info, env.atom_start_absolute_nm, env.destination_absolute_nm,\n",
    "            env.template_nm, env.template_wh)\n",
    "    episode_memory.update_memory_reset(env.img_info, i_episode, info)\n",
    "    \n",
    "    for step in range(max_steps):\n",
    "        action = agent.select_action(state)\n",
    "        old_atom_nm = env.atom_absolute_nm\n",
    "        next_state, reward, done, info = env.step(action)\n",
    "        episode_steps+=1\n",
    "        episode_reward+=reward\n",
    "        mask = float(not done)\n",
    "        memory.push(state,action,reward,next_state,mask)\n",
    "        episode_memory.update_memory_step(state, action, next_state, reward, done, info)\n",
    "        show_step(env.img_info, info['start_nm']+old_atom_nm, info['end_nm']+old_atom_nm,\n",
    "                    env.atom_absolute_nm, env.atom_start_absolute_nm, \n",
    "                    env.destination_absolute_nm, action[4]*env.max_mvolt, \n",
    "                    action[5]*env.max_pcurrent_to_mvolt_ratio*action[4]*env.max_mvolt, \n",
    "                    env.template_nm, env.template_wh)\n",
    "        print('step:', step,'reward', reward, 'precision:', env.dist_destination)\n",
    "        if done:\n",
    "            episode_memory.update_memory_done(env.img_info, env.atom_absolute_nm, env.atom_relative_nm)\n",
    "            episode_memory.save_memory(folder_name)\n",
    "            print('Episode reward:', episode_reward)\n",
    "            break\n",
    "        else:                \n",
    "            state=next_state\n",
    "        \n",
    "    if (len(memory)>batch_size):\n",
    "        episode_K = int(episode_steps)\n",
    "        for k in range(episode_K):\n",
    "            c_k = max(int(memory.__len__()*eta**((k)*(1000/episode_K))), 500)\n",
    "            agent.update_parameters(memory, batch_size, c_k)\n",
    "    \n",
    "    episode_rewards.append(episode_reward)\n",
    "    alphas.append(agent.alpha.item())\n",
    "    precisions.append(env.dist_destination)\n",
    "    episode_lengths.append(episode_steps)\n",
    "    avg_episode_rewards.append(np.mean(episode_rewards[-min(100,len(episode_rewards)):]))\n",
    "    avg_alphas.append(np.mean(alphas[-min(100, len(alphas)):]))\n",
    "    avg_precisions.append(np.mean(precisions[-min(100, len(precisions)):]))\n",
    "    avg_episode_lengths.append(np.mean(episode_lengths[-min(100, len(episode_lengths)):]))\n",
    "    \n",
    "    if (i_episode+1)%2==0:\n",
    "        plot_graph(episode_rewards, precisions, alphas, episode_lengths,\n",
    "                avg_episode_rewards, avg_alphas, avg_precisions, avg_episode_lengths)\n",
    "        \n",
    "    if (i_episode)%20 == 0:\n",
    "        torch.save(agent.critic.state_dict(), '{}/_critic_{}.pth'.format(folder_name,i_episode))\n",
    "        torch.save(agent.policy.state_dict(), '{}/_policy_{}.pth'.format(folder_name,i_episode))\n",
    "        torch.save(agent.alpha, '{}/_alpha_{}.pth'.format(folder_name,i_episode))\n",
    "        torch.save(env.atom_move_detector.conv.state_dict(), '{}/_atom_move_detector_conv_{}.pth'.format(folder_name,i_episo"
   ]
  },
  {
   "attachments": {},
   "cell_type": "markdown",
   "metadata": {},
   "source": [
    "# Define the training function"
   ]
  },
  {
   "cell_type": "code",
   "execution_count": null,
   "metadata": {},
   "outputs": [],
   "source": [
    "def sac_train(max_steps = max_len, num_episodes = 50, episode_start = 0):\n",
    "    \"\"\"\n",
    "    Collect training data and train the RL agent\n",
    "\n",
    "    Parameters\n",
    "    ----------\n",
    "    max_steps: int\n",
    "            maximum steps in an episode\n",
    "            \n",
    "    num_episodes: int\n",
    "            Train for this many episodes\n",
    "    \n",
    "    episode_start: int\n",
    "            Index to use for the starting episode\n",
    "\n",
    "    Returns\n",
    "    -------\n",
    "    None : None\n",
    "    \"\"\"\n",
    "    for i_episode in range(episode_start,episode_start+num_episodes):\n",
    "        print('Episode:', i_episode)\n",
    "        episode_reward, episode_steps = 0, 0\n",
    "        done = False\n",
    "        state, info = env.reset(update_conv_net=False)\n",
    "        show_reset(env.img_info, env.atom_start_absolute_nm, env.destination_absolute_nm,\n",
    "                   env.template_nm, env.template_wh)\n",
    "        episode_memory.update_memory_reset(env.img_info, i_episode, info)\n",
    "        \n",
    "        for step in range(max_steps):\n",
    "            action = agent.select_action(state)\n",
    "            old_atom_nm = env.atom_absolute_nm\n",
    "            next_state, reward, done, info = env.step(action)\n",
    "            episode_steps+=1\n",
    "            episode_reward+=reward\n",
    "            mask = float(not done)\n",
    "            memory.push(state,action,reward,next_state,mask)\n",
    "            episode_memory.update_memory_step(state, action, next_state, reward, done, info)\n",
    "            show_step(env.img_info, info['start_nm']+old_atom_nm, info['end_nm']+old_atom_nm,\n",
    "                        env.atom_absolute_nm, env.atom_start_absolute_nm, \n",
    "                        env.destination_absolute_nm, action[4]*env.max_mvolt, \n",
    "                        action[5]*env.max_pcurrent_to_mvolt_ratio*action[4]*env.max_mvolt, \n",
    "                        env.template_nm, env.template_wh)\n",
    "            print('step:', step,'reward', reward, 'precision:', env.dist_destination)\n",
    "            if done:\n",
    "                episode_memory.update_memory_done(env.img_info, env.atom_absolute_nm, env.atom_relative_nm)\n",
    "                episode_memory.save_memory(folder_name)\n",
    "                print('Episode reward:', episode_reward)\n",
    "                break\n",
    "            else:                \n",
    "                state=next_state\n",
    "             \n",
    "        if (len(memory)>batch_size):\n",
    "            episode_K = int(episode_steps)\n",
    "            for k in range(episode_K):\n",
    "                c_k = max(int(memory.__len__()*eta**((k)*(1000/episode_K))), 500)\n",
    "                agent.update_parameters(memory, batch_size, c_k)\n",
    "        \n",
    "        episode_rewards.append(episode_reward)\n",
    "        alphas.append(agent.alpha.item())\n",
    "        precisions.append(env.dist_destination)\n",
    "        episode_lengths.append(episode_steps)\n",
    "        avg_episode_rewards.append(np.mean(episode_rewards[-min(100,len(episode_rewards)):]))\n",
    "        avg_alphas.append(np.mean(alphas[-min(100, len(alphas)):]))\n",
    "        avg_precisions.append(np.mean(precisions[-min(100, len(precisions)):]))\n",
    "        avg_episode_lengths.append(np.mean(episode_lengths[-min(100, len(episode_lengths)):]))\n",
    "        \n",
    "        if (i_episode+1)%2==0:\n",
    "            plot_graph(episode_rewards, precisions, alphas, episode_lengths,\n",
    "                      avg_episode_rewards, avg_alphas, avg_precisions, avg_episode_lengths)\n",
    "            \n",
    "        if (i_episode)%20 == 0:\n",
    "            torch.save(agent.critic.state_dict(), '{}/_critic_{}.pth'.format(folder_name,i_episode))\n",
    "            torch.save(agent.policy.state_dict(), '{}/_policy_{}.pth'.format(folder_name,i_episode))\n",
    "            torch.save(agent.alpha, '{}/_alpha_{}.pth'.format(folder_name,i_episode))\n",
    "            torch.save(env.atom_move_detector.conv.state_dict(), '{}/_atom_move_detector_conv_{}.pth'.format(folder_name,i_episo"
   ]
  },
  {
   "attachments": {},
   "cell_type": "markdown",
   "metadata": {},
   "source": [
    "# Train the RL agent"
   ]
  },
  {
   "cell_type": "code",
   "execution_count": null,
   "metadata": {},
   "outputs": [],
   "source": [
    "sac_train(episode_start = 2896,num_episodes = 1000)"
   ]
  },
  {
   "attachments": {},
   "cell_type": "markdown",
   "metadata": {},
   "source": [
    "# find a section to condition tip"
   ]
  },
  {
   "cell_type": "code",
   "execution_count": null,
   "metadata": {},
   "outputs": [],
   "source": [
    "\n",
    "start_crash_hole=0\n",
    "approach_z=2\n",
    "\n",
    "def tip_cond_area(center_x=0, center_y=0, approach_area_length=800, cond_area_length=200, margin=20):\n",
    "    cond_area_center_x, cond_area_center_y=center_x-approach_area_length+cond_area_length+margin, center_y-approach_area_length+cond_area_center_y+margin\n",
    "    return cond_area_center_x, cond_area_center_y, cond_area_length\n",
    "\n",
    "env.default_max_radius_cellsize(cellsize=20, max_radius=200)\n",
    "points=env.computeLocationIDs()\n",
    "cond_area_center_x, cond_area_center_y, cond_area_length=tip_cond_area()\n",
    "\n",
    "env.createc_controller.ramp_bias_mV(-1.2)\n",
    "env.createc_controller.tip_form(approach_z, cond_area_center_x+points[start_crash_hole][0]*cellsize,cond_area_center_y+points[start_crash_hole][1]*cellsize)\n",
    "print(env.createc_controller.im_size_nm)\n",
    "start_crash_hole=start_crash_hole"
   ]
  },
  {
   "attachments": {},
   "cell_type": "markdown",
   "metadata": {},
   "source": [
    "# Problem situations:"
   ]
  },
  {
   "cell_type": "code",
   "execution_count": null,
   "metadata": {},
   "outputs": [],
   "source": [
    "start_x = 0\n",
    "start_y = 0\n",
    "tip_x = 0\n",
    "tip_y = 0\n",
    "check_similarity=None\n",
    "check_similarity.append([tip_x, tip_y])\n",
    "radius = 35\n",
    "upper_limit_move=400\n",
    "env.max_radius=150\n",
    "\n",
    "image_forward = info['img_info']['img_forward']\n",
    "image_backward =info['img_info']['img_backward']\n",
    "\n",
    "\n",
    "# dectect atoms\n",
    "isAtom = False\n",
    "\n",
    "\n",
    "\n",
    "# debris\n",
    "debris_thres = 6\n",
    "DebresCounter = 0\n",
    "noDebris = False\n",
    "\n",
    "\n",
    "\n",
    "# Crash dectected\n",
    "crash_thres = 1e-25 \n",
    "approach_z = 4\n",
    "noCrash = False\n",
    "\n",
    "\n",
    "while not isAtom or not noDebris or not noCrash:\n",
    "    \n",
    "    # detect atoms\n",
    "    atom_forward = blob_detection(info[img_forward])[0]\n",
    "\n",
    "    if len(atom_forward)>0:\n",
    "        isAtom = True\n",
    "\n",
    "    # detect debris\n",
    "    noDebris =  ((np.max(image_forward) - np.min(image_forward)) < debris_thres) \n",
    "    \n",
    "    # dectect crash\n",
    "    noCrash = (np.max(img_forward)-np.min(img_forward) )< crash_thres and (np.mean(img_forward)>0)\n",
    "    \n",
    "    if isAtom and noDebris and noCrash:\n",
    "        continue\n",
    "        \n",
    "        \n",
    "        \n",
    "    else:\n",
    "        tip_x, tip_y=env.GetNextGoodClosest(tip_x, tip_y, initial_x=start_x, initial_y=start_y, forbiden_radius=radius, upper_limit_move=upper_limit_move,approach_limit=[-180, 180, -180, 180],check_similarity=check_similarity) \n",
    "        if tip_x==None:\n",
    "            tip_x, tip_y=check_similarity[-1][0], check_similarity[-1][1]\n",
    "            image=env.set_newtip_pos(tip_x, tip_y)\n",
    "            image_forward, image_backward =image[0], image[1]\n",
    "            radius=radius*2\n",
    "            env.max_radius=env.max_radius*2\n",
    "            upper_limit_move=upper_limit_move+20000\n",
    "        else:\n",
    "            radius=35\n",
    "            upper_limit_move=400\n",
    "            env.max_radius=150\n",
    "                \n",
    "    \n",
    "            \n",
    "            \n",
    "    check_similarity.append([tip_x, tip_y])        \n",
    "    if radius>280:\n",
    "        print('there is no section satisfying the demand within radius of 280 nm')\n",
    "        break\n",
    "\n",
    "    \n",
    "\n",
    "        \n",
    "        \n",
    "    \n",
    "    \n",
    "\n"
   ]
  },
  {
   "attachments": {},
   "cell_type": "markdown",
   "metadata": {},
   "source": [
    "# Condition probe"
   ]
  },
  {
   "cell_type": "code",
   "execution_count": null,
   "metadata": {},
   "outputs": [],
   "source": [
    "env.createc_controller.stm.setparam('TipForm_Volt', -3) # Set the bias voltage for the atom manipulation(unit V)\n",
    "\n",
    "env.createc_controller.stm.setparam('TipForm_Z', 0.0) # Set the z position for the atom manipulation(unit angstrom)\n",
    "\n",
    "env.createc_controller.stm.setparam('Tip_Delay', 0.4915) # Set the delay time for the atom manipulation(unit s)\n",
    "env.createc_controller.stm.setparam('Tip_Latddx', 833) # Set the lateral ddx for the atom manipulation(unit angstrom/ms^2)\n",
    "env.createc_controller.stm.setparam('Tip_LatDelay', 20) # Set the lateral delay for the atom manipulation(unit ms)\n",
    "env.createc_controller.stm.setparam('Tip_Gain', 6) # Set the gain for the atom manipulation(unit 1)\n",
    "env.createc_controller.stm.setparam('TipForm_Zoffset', 0.0) # Set the z offset for the atom manipulation(unit angstrom)\n",
    "\n"
   ]
  },
  {
   "cell_type": "code",
   "execution_count": null,
   "metadata": {},
   "outputs": [],
   "source": [
    "tip_condition_actions={'stall': [0, 0],\n",
    "                      'soft pulse pos':[0, 2.5],\n",
    "                      'medium pulse pos': [0, 4.0],\n",
    "                      'soft pulse neg': [0 , -2.5], \n",
    "                      'medium pulse neg': [0, -4],\n",
    "                      'strong pulse neg': [0, -8],\n",
    "                      'very soft dip': [0, -8],\n",
    "                      'soft dip 1': [-0.80, 0.02],\n",
    "                      'soft dip 2': [-1.2, 0.02],\n",
    "                      'soft dip 3': [-1.8, 0.02],\n",
    "                      'medium soft': [-2.5, 0.02],\n",
    "                      'strong dip': [-5.0, 0.02]\n",
    "                      }\n"
   ]
  },
  {
   "cell_type": "code",
   "execution_count": null,
   "metadata": {},
   "outputs": [],
   "source": [
    "def tip_form(self, dip_z_nm: float, voltage: float, x_nm: float, y_nm: float) -> None:\n",
    "    \"\"\"Perform tip forming\n",
    "    Parameters\n",
    "    ----------\n",
    "    dip_z_nm : float\n",
    "        Z approach value in A\n",
    "    voltage : float\n",
    "        Voltage value in V\n",
    "    x_nm, y_nm : float\n",
    "        STM coordinates (nm)\n",
    "    \"\"\"\n",
    "    offset_nm = self.get_offset_nm()\n",
    "    len_nm = self.get_len_nm()\n",
    "    self.stm.setparam('BiasVolt.[mV]',Voltage)\n",
    "    self.ramp_bias_mV(mvoltage)\n",
    "    preamp_grain = 10**float(self.stm.getparam(\"Latmangain\"))\n",
    "    self.stm.setparam(\"LatmanVolt\",  mvoltage) #(mV)\n",
    "#     self.stm.setparam(\"Latmanlgi\", pcurrent*1e-9*preamp_grain) #(pA)\n",
    "    \n",
    "    self.set_Z_approach(A)\n",
    "    args = x_nm, y_nm, None, None, offset_nm, len_nm\n",
    "    x_pixel, y_pixel, _, _ = self.nm_to_pixel(*args)\n",
    "    self.stm.btn_tipform(x_pixel, y_pixel)\n",
    "    self.stm.waitms(50)"
   ]
  },
  {
   "attachments": {},
   "cell_type": "markdown",
   "metadata": {},
   "source": [
    "### Define the training function"
   ]
  },
  {
   "cell_type": "code",
   "execution_count": 11,
   "metadata": {},
   "outputs": [],
   "source": [
    "env.dist_destination=0.3934795995776328"
   ]
  },
  {
   "cell_type": "code",
   "execution_count": null,
   "metadata": {},
   "outputs": [],
   "source": []
  }
 ],
 "metadata": {
  "kernelspec": {
   "display_name": "Python 3 (ipykernel)",
   "language": "python",
   "name": "python3"
  },
  "language_info": {
   "codemirror_mode": {
    "name": "ipython",
    "version": 3
   },
   "file_extension": ".py",
   "mimetype": "text/x-python",
   "name": "python",
   "nbconvert_exporter": "python",
   "pygments_lexer": "ipython3",
   "version": "3.9.13"
  }
 },
 "nbformat": 4,
 "nbformat_minor": 4
}
